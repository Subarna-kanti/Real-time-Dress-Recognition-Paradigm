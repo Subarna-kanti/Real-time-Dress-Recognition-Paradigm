{
  "nbformat": 4,
  "nbformat_minor": 0,
  "metadata": {
    "colab": {
      "name": "Yolo+classifier(Test).ipynb",
      "provenance": [],
      "collapsed_sections": [],
      "include_colab_link": true
    },
    "kernelspec": {
      "name": "python3",
      "display_name": "Python 3"
    }
  },
  "cells": [
    {
      "cell_type": "markdown",
      "metadata": {
        "id": "view-in-github",
        "colab_type": "text"
      },
      "source": [
        "<a href=\"https://colab.research.google.com/github/Subarna-kanti/Real-time-Dress-Recognition-Paradigm/blob/master/Yolo%2Bclassifier(Test).ipynb\" target=\"_parent\"><img src=\"https://colab.research.google.com/assets/colab-badge.svg\" alt=\"Open In Colab\"/></a>"
      ]
    },
    {
      "cell_type": "code",
      "metadata": {
        "id": "oO8Hn7kg5PkV",
        "colab": {
          "base_uri": "https://localhost:8080/",
          "height": 124
        },
        "outputId": "ca090993-8b4a-4510-d510-22c60eea515e"
      },
      "source": [
        "from google.colab import drive\n",
        "drive.mount('/content/drive')"
      ],
      "execution_count": null,
      "outputs": [
        {
          "output_type": "stream",
          "text": [
            "Go to this URL in a browser: https://accounts.google.com/o/oauth2/auth?client_id=947318989803-6bn6qk8qdgf4n4g3pfee6491hc0brc4i.apps.googleusercontent.com&redirect_uri=urn%3aietf%3awg%3aoauth%3a2.0%3aoob&response_type=code&scope=email%20https%3a%2f%2fwww.googleapis.com%2fauth%2fdocs.test%20https%3a%2f%2fwww.googleapis.com%2fauth%2fdrive%20https%3a%2f%2fwww.googleapis.com%2fauth%2fdrive.photos.readonly%20https%3a%2f%2fwww.googleapis.com%2fauth%2fpeopleapi.readonly\n",
            "\n",
            "Enter your authorization code:\n",
            "··········\n",
            "Mounted at /content/drive\n"
          ],
          "name": "stdout"
        }
      ]
    },
    {
      "cell_type": "code",
      "metadata": {
        "id": "IGH5N-592Df7",
        "colab": {
          "base_uri": "https://localhost:8080/",
          "height": 34
        },
        "outputId": "71db6e1b-e798-4863-da14-3a375b7ee825"
      },
      "source": [
        "from keras.models import load_model\n",
        "import time \n",
        "from IPython import display"
      ],
      "execution_count": null,
      "outputs": [
        {
          "output_type": "stream",
          "text": [
            "Using TensorFlow backend.\n"
          ],
          "name": "stderr"
        }
      ]
    },
    {
      "cell_type": "code",
      "metadata": {
        "id": "qMmlmKVeaNQ9"
      },
      "source": [
        "classifier_model = load_model(\"/content/drive/My Drive/Models_DressC/dress_classifier_weights.h5\")\n"
      ],
      "execution_count": null,
      "outputs": []
    },
    {
      "cell_type": "code",
      "metadata": {
        "id": "cRt934WZlpWm"
      },
      "source": [
        "dic = { 0 : \"kurti\" ,\t\t\t\t\t\t\t\t\t\t\n",
        "1 : \"saree\", \t\t\t\t\t\t\t\t\t\t\n",
        "2 : \"formal shirt\", \t\t\t\t\t\t\t\t\t\t\n",
        "3 : \"T-shirt\" \n",
        "}\t\t"
      ],
      "execution_count": null,
      "outputs": []
    },
    {
      "cell_type": "code",
      "metadata": {
        "id": "ui_U4zn5up3x"
      },
      "source": [
        "# create a YOLOv3 Keras model and save it to file\n",
        "import struct\n",
        "import numpy as np\n",
        "from keras.layers import Conv2D\n",
        "from keras.layers import Input\n",
        "from keras.layers import BatchNormalization\n",
        "from keras.layers import LeakyReLU\n",
        "from keras.layers import ZeroPadding2D\n",
        "from keras.layers import UpSampling2D\n",
        "from keras.layers.merge import add, concatenate\n",
        "from keras.models import Model\n",
        "import cv2\n",
        "import pickle \n",
        "\n"
      ],
      "execution_count": null,
      "outputs": []
    },
    {
      "cell_type": "code",
      "metadata": {
        "id": "487D-L7swjQe",
        "colab": {
          "base_uri": "https://localhost:8080/",
          "height": 72
        },
        "outputId": "06293db9-dcb3-4391-ff52-b584c0512252"
      },
      "source": [
        "# load yolov3 model and perform object detection\n",
        "import numpy as np\n",
        "from numpy import expand_dims\n",
        "from keras.models import load_model\n",
        "from keras.preprocessing.image import load_img\n",
        "from keras.preprocessing.image import img_to_array\n",
        "from matplotlib import pyplot\n",
        "from matplotlib.patches import Rectangle\n",
        "import shutil\n",
        "import os\n",
        "#The output of the model is, in fact, encoded candidate bounding boxes from three different grid sizes, and the boxes are defined the context of anchor boxes\n",
        "class BoundBox:\n",
        "\tdef __init__(self, xmin, ymin, xmax, ymax, objness = None, classes = None):\n",
        "\t\tself.xmin = xmin\n",
        "\t\tself.ymin = ymin\n",
        "\t\tself.xmax = xmax\n",
        "\t\tself.ymax = ymax\n",
        "\t\tself.objness = objness\n",
        "\t\tself.classes = classes\n",
        "\t\tself.label = -1\n",
        "\t\tself.score = -1\n",
        "\n",
        "\tdef get_label(self):\n",
        "\t\tif self.label == -1:\n",
        "\t\t\tself.label = np.argmax(self.classes)\n",
        "\n",
        "\t\treturn self.label\n",
        "\n",
        "\tdef get_score(self):\n",
        "\t\tif self.score == -1:\n",
        "\t\t\tself.score = self.classes[self.get_label()]\n",
        "\n",
        "\t\treturn self.score\n",
        "\n",
        "def _sigmoid(x):\n",
        "\treturn 1. / (1. + np.exp(-x))\n",
        "\n",
        "def decode_netout(netout, anchors, obj_thresh, net_h, net_w):\n",
        "\tgrid_h, grid_w = netout.shape[:2]\n",
        "\tnb_box = 3\n",
        "\tnetout = netout.reshape((grid_h, grid_w, nb_box, -1))\n",
        "\tnb_class = netout.shape[-1] - 5\n",
        "\tboxes = []\n",
        "\tnetout[..., :2]  = _sigmoid(netout[..., :2])\n",
        "\tnetout[..., 4:]  = _sigmoid(netout[..., 4:])\n",
        "\tnetout[..., 5:]  = netout[..., 4][..., np.newaxis] * netout[..., 5:]\n",
        "\tnetout[..., 5:] *= netout[..., 5:] > obj_thresh\n",
        "\n",
        "\tfor i in range(grid_h*grid_w):\n",
        "\t\trow = i / grid_w\n",
        "\t\tcol = i % grid_w\n",
        "\t\tfor b in range(nb_box):\n",
        "\t\t\t# 4th element is objectness score\n",
        "\t\t\tobjectness = netout[int(row)][int(col)][b][4]\n",
        "\t\t\tif(objectness.all() <= obj_thresh): continue\n",
        "\t\t\t# first 4 elements are x, y, w, and h\n",
        "\t\t\tx, y, w, h = netout[int(row)][int(col)][b][:4]\n",
        "\t\t\tx = (col + x) / grid_w # center position, unit: image width\n",
        "\t\t\ty = (row + y) / grid_h # center position, unit: image height\n",
        "\t\t\tw = anchors[2 * b + 0] * np.exp(w) / net_w # unit: image width\n",
        "\t\t\th = anchors[2 * b + 1] * np.exp(h) / net_h # unit: image height\n",
        "\t\t\t# last elements are class probabilities\n",
        "\t\t\tclasses = netout[int(row)][col][b][5:]\n",
        "\t\t\tbox = BoundBox(x-w/2, y-h/2, x+w/2, y+h/2, objectness, classes)\n",
        "\t\t\tboxes.append(box)\n",
        "\treturn boxes\n",
        "\n",
        "def correct_yolo_boxes(boxes, image_h, image_w, net_h, net_w):\n",
        "\tnew_w, new_h = net_w, net_h\n",
        "\tfor i in range(len(boxes)):\n",
        "\t\tx_offset, x_scale = (net_w - new_w)/2./net_w, float(new_w)/net_w\n",
        "\t\ty_offset, y_scale = (net_h - new_h)/2./net_h, float(new_h)/net_h\n",
        "\t\tboxes[i].xmin = int((boxes[i].xmin - x_offset) / x_scale * image_w)\n",
        "\t\tboxes[i].xmax = int((boxes[i].xmax - x_offset) / x_scale * image_w)\n",
        "\t\tboxes[i].ymin = int((boxes[i].ymin - y_offset) / y_scale * image_h)\n",
        "\t\tboxes[i].ymax = int((boxes[i].ymax - y_offset) / y_scale * image_h)\n",
        "\n",
        "def _interval_overlap(interval_a, interval_b):\n",
        "\tx1, x2 = interval_a\n",
        "\tx3, x4 = interval_b\n",
        "\tif x3 < x1:\n",
        "\t\tif x4 < x1:\n",
        "\t\t\treturn 0\n",
        "\t\telse:\n",
        "\t\t\treturn min(x2,x4) - x1\n",
        "\telse:\n",
        "\t\tif x2 < x3:\n",
        "\t\t\t return 0\n",
        "\t\telse:\n",
        "\t\t\treturn min(x2,x4) - x3\n",
        "\n",
        "def bbox_iou(box1, box2):\n",
        "\tintersect_w = _interval_overlap([box1.xmin, box1.xmax], [box2.xmin, box2.xmax])\n",
        "\tintersect_h = _interval_overlap([box1.ymin, box1.ymax], [box2.ymin, box2.ymax])\n",
        "\tintersect = intersect_w * intersect_h\n",
        "\tw1, h1 = box1.xmax-box1.xmin, box1.ymax-box1.ymin\n",
        "\tw2, h2 = box2.xmax-box2.xmin, box2.ymax-box2.ymin\n",
        "\tunion = w1*h1 + w2*h2 - intersect\n",
        "\treturn float(intersect) / union\n",
        "\n",
        "def do_nms(boxes, nms_thresh):\n",
        "\tintersect_w = _interval_overlap([box1.xmin, box1.xmax], [box2.xmin, box2.xmax])\n",
        "\telse:\n",
        "\t\treturn\n",
        "\tfor c in range(nb_class):\n",
        "\t\tsorted_indices = np.argsort([-box.classes[c] for box in boxes])\n",
        "\t\tfor i in range(len(sorted_indices)):\n",
        "\t\t\tindex_i = sorted_indices[i]\n",
        "\t\t\tif boxes[index_i].classes[c] == 0: continue\n",
        "\t\t\tfor j in range(i+1, len(sorted_indices)):\n",
        "\t\t\t\tindex_j = sorted_indices[j]\n",
        "\t\t\t\tif bbox_iou(boxes[index_i], boxes[index_j]) >= nms_thresh:\n",
        "\t\t\t\t\tboxes[index_j].classes[c] = 0\n",
        "\n",
        "# load and prepare an image\n",
        "def load_image_pixels(filename, shape):\n",
        "\t# load the image to get its shape\n",
        "\timage = load_img(filename)\n",
        "\twidth, height = image.size\n",
        "\t# load the image with the required size\n",
        "\timage = load_img(filename, target_size=shape)\n",
        "\t# convert to numpy array\n",
        "\timage = img_to_array(image)\n",
        "\t# scale pixel values to [0, 1]\n",
        "\timage = image.astype('float32')\n",
        "\timage /= 255.0\n",
        "\t# add a dimension so that we have one sample\n",
        "\timage = expand_dims(image, 0)\n",
        "\treturn image, width, height\n",
        "\n",
        "# get all of the results above a threshold\n",
        "def get_boxes(boxes, labels, thresh):\n",
        "\tv_boxes, v_labels, v_scores = list(), list(), list()\n",
        "\t# enumerate all boxes\n",
        "\tfor box in boxes:\n",
        "\t\t# enumerate all possible labels\n",
        "\t\tfor i in range(len(labels)):\n",
        "\t\t\t# check if the threshold for this label is high enough\n",
        "\t\t\tif box.classes[i] > thresh:\n",
        "\t\t\t\tv_boxes.append(box)\n",
        "\t\t\t\tv_labels.append(labels[i])\n",
        "\t\t\t\tv_scores.append(box.classes[i]*100)\n",
        "\t\t\t\t# don't break, many labels may trigger for one box\n",
        "\treturn v_boxes, v_labels, v_scores\n",
        "\n",
        "\n",
        "# load yolov3 model\n",
        "model = load_model('/content/drive/My Drive/Models_DressC/Yolo_pretrained_model.h5')\n"
      ],
      "execution_count": null,
      "outputs": [
        {
          "output_type": "stream",
          "text": [
            "/usr/local/lib/python3.6/dist-packages/keras/engine/saving.py:341: UserWarning: No training configuration found in save file: the model was *not* compiled. Compile it manually.\n",
            "  warnings.warn('No training configuration found in save file: '\n"
          ],
          "name": "stderr"
        }
      ]
    },
    {
      "cell_type": "code",
      "metadata": {
        "id": "btnGk634fMpg"
      },
      "source": [
        "# define the labels\n",
        "labels = [\"person\", \"bicycle\", \"car\", \"motorbike\", \"aeroplane\", \"bus\", \"train\", \"truck\",\n",
        "\t\"boat\", \"traffic light\", \"fire hydrant\", \"stop sign\", \"parking meter\", \"bench\",\n",
        "\t\"bird\", \"cat\", \"dog\", \"horse\", \"sheep\", \"cow\", \"elephant\", \"bear\", \"zebra\", \"giraffe\",\n",
        "\t\"backpack\", \"umbrella\", \"handbag\", \"tie\", \"suitcase\", \"frisbee\", \"skis\", \"snowboard\",\n",
        "\t\"sports ball\", \"kite\", \"baseball bat\", \"baseball glove\", \"skateboard\", \"surfboard\",\n",
        "\t\"tennis racket\", \"bottle\", \"wine glass\", \"cup\", \"fork\", \"knife\", \"spoon\", \"bowl\", \"banana\",\n",
        "\t\"apple\", \"sandwich\", \"orange\", \"broccoli\", \"carrot\", \"hot dog\", \"pizza\", \"donut\", \"cake\",\n",
        "\t\"chair\", \"sofa\", \"pottedplant\", \"bed\", \"diningtable\", \"toilet\", \"tvmonitor\", \"laptop\", \"mouse\",\n",
        "\t\"remote\", \"keyboard\", \"cell phone\", \"microwave\", \"oven\", \"toaster\", \"sink\", \"refrigerator\",\n",
        "\t\"book\", \"clock\", \"vase\", \"scissors\", \"teddy bear\", \"hair drier\", \"toothbrush\"]\n"
      ],
      "execution_count": null,
      "outputs": []
    },
    {
      "cell_type": "code",
      "metadata": {
        "id": "J-6HGO34ABFw"
      },
      "source": [
        "def common_element(a , b): \n",
        "  a_set = set(a)\n",
        "  b_set = set(b)\n",
        "  if len(a_set.intersection(b_set))> 0:\n",
        "    return(list(a_set.intersection(b_set)))\n",
        "  else:\n",
        "    return 0 "
      ],
      "execution_count": null,
      "outputs": []
    },
    {
      "cell_type": "code",
      "metadata": {
        "id": "tDQJnJsLNTVp"
      },
      "source": [
        "def zeropad_images(image, req_scale = 128):\n",
        "  h , w , c = image.shape \n",
        "  print(image.shape)\n",
        "  if w >= req_scale or h >= req_scale: \n",
        "    if w > h : \n",
        "      image = cv2.resize(image, dsize = (req_scale , int(req_scale*(h/w))   ), interpolation=cv2.INTER_CUBIC)\n",
        "    if h > w : \n",
        "      image = cv2.resize(image, dsize = ( int(req_scale*(w/h)) , req_scale  ), interpolation=cv2.INTER_CUBIC)\n",
        "  width_pad, height_pad = 0 , 0 \n",
        "  h , w , c = image.shape \n",
        "  if h < req_scale : \n",
        "    height_pad = int((req_scale - h)/2)\n",
        "  if w < req_scale : \n",
        "    width_pad = int((req_scale - w)/2)\n",
        "  image = np.pad(image, ((height_pad, height_pad), (width_pad, width_pad), (0,0) ), mode = 'constant')\n",
        "  image = cv2.resize(image, dsize = (req_scale , req_scale   ), interpolation=cv2.INTER_CUBIC)\n",
        "  return image"
      ],
      "execution_count": null,
      "outputs": []
    },
    {
      "cell_type": "code",
      "metadata": {
        "id": "bksWa4koPaXy"
      },
      "source": [
        "def draw_boxes(filename, v_boxes, v_labels, v_scores, dir_labels, dress_dataframe = None):\n",
        "  data = pyplot.imread(filename)\n",
        "  req_scale = 128\n",
        "  dress_labels = [i for i in v_labels if i == 'person']\n",
        "  j = 0 \n",
        "  label_name = common_element(filename.split('/') , dir_labels)[0]\n",
        "  pyplot.imshow(data)\n",
        "  ax =  pyplot.gca()\n",
        "\n",
        "  correct_or_incorrect_label = []\n",
        "  for i in range( len(v_boxes)):\n",
        "    if v_labels[i] == 'person':  \n",
        "      box = v_boxes[i]\n",
        "      y1, x1, y2, x2 = box.ymin, box.xmin, box.ymax, box.xmax\n",
        "      width, height = x2 - x1 , y2 - y1\n",
        "      temp = data[y1: y2, x1 : x2 ]\n",
        "\n",
        "      rect = Rectangle((x1, y1), width, height, fill=False, color='red')\n",
        "\n",
        "      temp = zeropad_images(temp, req_scale)\n",
        "      prediction = classifier_model.predict(np.expand_dims(temp, axis = 0))\n",
        "      pred = np.argmax(prediction, axis = 1)\n",
        "      pred_label = dic[pred[0]]\n",
        "\n",
        "      if pred_label == label_name: \n",
        "        correct_or_incorrect_label.append(1)\n",
        "      else:\n",
        "        correct_or_incorrect_label.append(0)\n",
        "\n",
        "      ax.add_patch(rect)\n",
        "      label = \"%s\" % (v_labels[i] + \" wearing \" + pred_label )\n",
        "      pyplot.text(x1, y1, label, color='red', fontsize = 12)\n",
        "    else:\n",
        "       continue\n",
        "  pyplot.show()\n",
        "  \n",
        "  return correct_or_incorrect_label"
      ],
      "execution_count": null,
      "outputs": []
    },
    {
      "cell_type": "code",
      "metadata": {
        "id": "kXKzr-cmxBZs"
      },
      "source": [
        "def yolo_person_seperator(path , dress_labels, dress_dataframe = None ):\n",
        "  input_w, input_h = 416, 416\n",
        "  # define our new photo\n",
        "  photo_filename = path\n",
        "  # load and prepare image\n",
        "  image, image_w, image_h = load_image_pixels(photo_filename, (input_w, input_h))\n",
        "  # make prediction\n",
        "  yhat = model.predict(image)\n",
        "  # summarize the shape of the list of arrays\n",
        "  # print([a.shape for a in yhat])\n",
        "  # define the anchors\n",
        "  anchors = [[116,90, 156,198, 373,326], [30,61, 62,45, 59,119], [10,13, 16,30, 33,23]]\n",
        "  # define the probability threshold for detected objects\n",
        "  class_threshold = 0.6\n",
        "  boxes = list()\n",
        "  for i in range(len(yhat)):\n",
        "    # decode the output of the network\n",
        "    boxes += decode_netout(yhat[i][0], anchors[i], class_threshold, input_h, input_w)\n",
        "  # correct the sizes of the bounding boxes for the shape of the image\n",
        "  correct_yolo_boxes(boxes, image_h, image_w, input_h, input_w)\n",
        "  # suppress non-maximal boxes\n",
        "  do_nms(boxes, 0.5)\n",
        "\n",
        "  # get the details of the detected objects\n",
        "  v_boxes, v_labels, v_scores = get_boxes(boxes, labels, class_threshold)\n",
        "  correct_incorrect_pred = draw_boxes(photo_filename, v_boxes, v_labels, v_scores , dress_labels )\n",
        "  return correct_incorrect_pred"
      ],
      "execution_count": null,
      "outputs": []
    },
    {
      "cell_type": "code",
      "metadata": {
        "id": "PHGwBHsUhPZ1",
        "colab": {
          "base_uri": "https://localhost:8080/",
          "height": 304
        },
        "outputId": "3c1b8230-d9b5-43b6-de0c-4e580f293c96"
      },
      "source": [
        "correct_or_incorrect_pred = np.array([ ])\n",
        "temp = np.array([])\n",
        "test_loc = \"/content/drive/My Drive/test_submit_dress_classifier\"\n",
        "dress_labels = os.listdir(test_loc)\n",
        "# dress_labels.remove('.ipynb_checkpoints')\n",
        "\n",
        "for dirpath, dirs, files in os.walk(test_loc):\n",
        "  i = 0 \n",
        "  # dress_labels.remove('.ipynb_checkpoints')\n",
        "  # change the folder name here to get the specific folder images only \n",
        "  for filename in files: \n",
        "    start = time.time()\n",
        "    if i == 30 : \n",
        "      break\n",
        "    i += 1\n",
        "    fname = os.path.join(dirpath,filename)\n",
        "    temp = yolo_person_seperator(fname, dress_labels)\n",
        "\n",
        "    if len(correct_or_incorrect_pred) == 0:\n",
        "      correct_or_incorrect_pred = temp\n",
        "    else: \n",
        "      correct_or_incorrect_pred = np.concatenate( (correct_or_incorrect_pred , temp) , axis = 0)\n",
        "    print(\"--- Model takes %s second to predict ---\" % (time.time() - start))\n",
        "    display.clear_output(wait = True)\n"
      ],
      "execution_count": null,
      "outputs": [
        {
          "output_type": "stream",
          "text": [
            "(287, 93, 3)\n"
          ],
          "name": "stdout"
        },
        {
          "output_type": "display_data",
          "data": {
            "image/png": "[encoded data removed]",
            "text/plain": [
              "<Figure size 432x288 with 1 Axes>"
            ]
          },
          "metadata": {
            "tags": [],
            "needs_background": "light"
          }
        },
        {
          "output_type": "stream",
          "text": [
            "--- Model takes 6.608034610748291 second to predict ---\n"
          ],
          "name": "stdout"
        }
      ]
    },
    {
      "cell_type": "code",
      "metadata": {
        "id": "dkAgs3tX00yc"
      },
      "source": [
        "# !rm -r /content/saved_images/*"
      ],
      "execution_count": null,
      "outputs": []
    },
    {
      "cell_type": "code",
      "metadata": {
        "id": "Nzo4bArjyuH2",
        "colab": {
          "base_uri": "https://localhost:8080/",
          "height": 34
        },
        "outputId": "43dc026e-58bd-411a-825b-5aeb69e2752f"
      },
      "source": [
        "print(\"Accuracy for the dress calssification test set is \", 100*(correct_or_incorrect_pred.sum()/len(correct_or_incorrect_pred)))"
      ],
      "execution_count": null,
      "outputs": [
        {
          "output_type": "stream",
          "text": [
            "Accuracy for the dress calssification test set is  86.46288209606988\n"
          ],
          "name": "stdout"
        }
      ]
    }
  ]
}