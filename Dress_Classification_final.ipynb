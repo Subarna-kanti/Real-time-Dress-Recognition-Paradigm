{
  "nbformat": 4,
  "nbformat_minor": 0,
  "metadata": {
    "colab": {
      "name": "Dress_Classification final.ipynb",
      "provenance": [],
      "collapsed_sections": [],
      "include_colab_link": true
    },
    "kernelspec": {
      "name": "python3",
      "display_name": "Python 3"
    }
  },
  "cells": [
    {
      "cell_type": "markdown",
      "metadata": {
        "id": "view-in-github",
        "colab_type": "text"
      },
      "source": [
        "<a href=\"https://colab.research.google.com/github/Subarna-kanti/Real-time-Dress-Recognition-Paradigm/blob/master/Dress_Classification_final.ipynb\" target=\"_parent\"><img src=\"https://colab.research.google.com/assets/colab-badge.svg\" alt=\"Open In Colab\"/></a>"
      ]
    },
    {
      "cell_type": "code",
      "metadata": {
        "id": "mXTBCpdJM4xJ",
        "colab": {
          "base_uri": "https://localhost:8080/",
          "height": 127
        },
        "outputId": "27dc65fa-f513-43ee-e36b-119bcb409516"
      },
      "source": [
        "  from google.colab import drive\n",
        "drive.mount('/content/drive')"
      ],
      "execution_count": null,
      "outputs": [
        {
          "output_type": "stream",
          "text": [
            "Go to this URL in a browser: https://accounts.google.com/o/oauth2/auth?client_id=947318989803-6bn6qk8qdgf4n4g3pfee6491hc0brc4i.apps.googleusercontent.com&redirect_uri=urn%3aietf%3awg%3aoauth%3a2.0%3aoob&response_type=code&scope=email%20https%3a%2f%2fwww.googleapis.com%2fauth%2fdocs.test%20https%3a%2f%2fwww.googleapis.com%2fauth%2fdrive%20https%3a%2f%2fwww.googleapis.com%2fauth%2fdrive.photos.readonly%20https%3a%2f%2fwww.googleapis.com%2fauth%2fpeopleapi.readonly\n",
            "\n",
            "Enter your authorization code:\n",
            "··········\n",
            "Mounted at /content/drive\n"
          ],
          "name": "stdout"
        }
      ]
    },
    {
      "cell_type": "code",
      "metadata": {
        "id": "-pjKVMEdpt4w",
        "colab": {
          "base_uri": "https://localhost:8080/",
          "height": 35
        },
        "outputId": "e65c452f-b532-4ecf-d9fa-89887091d82a"
      },
      "source": [
        "from sklearn.metrics import classification_report, confusion_matrix, accuracy_score\n",
        "from __future__ import absolute_import\n",
        "from __future__ import division\n",
        "from __future__ import print_function\n",
        "\n",
        "from datetime import datetime\n",
        "from packaging import version\n",
        "import keras"
      ],
      "execution_count": null,
      "outputs": [
        {
          "output_type": "stream",
          "text": [
            "Using TensorFlow backend.\n"
          ],
          "name": "stderr"
        }
      ]
    },
    {
      "cell_type": "code",
      "metadata": {
        "id": "yAs8u-apUSQh",
        "colab": {
          "base_uri": "https://localhost:8080/",
          "height": 700
        },
        "outputId": "feabcf3b-f8b3-404e-a0b0-62ffaff5f8b0"
      },
      "source": [
        "import pandas as pd\n",
        "import numpy as np\n",
        "import math\n",
        "import timeit\n",
        "import matplotlib.pyplot as plt\n",
        "from six.moves import cPickle as pickle\n",
        "import os\n",
        "import platform\n",
        "from subprocess import check_output\n",
        "import glob\n",
        "%matplotlib inline\n",
        "\n",
        "def do_the_test_train_split(X, y , num_train = 300 , num_val = 9  ):\n",
        "  X_train = X[:num_train , : , :, : ]\n",
        "  y_train = y[:num_train]\n",
        "  X_test = X[num_train: , : , : , : ]\n",
        "  y_test = y[num_train:  ]\n",
        "  return X_train, y_train, X_test, y_test\n",
        "\n",
        "img_rows, img_cols = 256, 256\n",
        "input_shape = (img_rows, img_cols, 3)\n",
        "\n",
        "def load_pickle(f):\n",
        "    version = platform.python_version_tuple()\n",
        "    if version[0] == '2':\n",
        "        return  pickle.load(f)\n",
        "    elif version[0] == '3':\n",
        "        return  pickle.load(f, encoding='latin1')\n",
        "    raise ValueError(\"invalid python version: {}\".format(version))\n",
        "\n",
        "def load_dataset(filedir):\n",
        "  i = 0\n",
        "  dataframe = np.array([ ])\n",
        "  for filepath in glob.glob(filedir):\n",
        "    print(filepath)\n",
        "    i += 1\n",
        "    f =  open(filepath, 'rb') \n",
        "    datadict = load_pickle(f)\n",
        "    print(datadict.shape)\n",
        "    if dataframe.size == 0 : \n",
        "      dataframe = datadict\n",
        "    else : \n",
        "      dataframe = np.concatenate( (dataframe , datadict) , axis = 0 )\n",
        "  np.random.shuffle(dataframe)\n",
        "  X = dataframe[: , 1:]\n",
        "  Y = dataframe[: , 0]\n",
        "  print(\"x.shape\", X.shape)\n",
        "  print(\"y.shape\", Y.shape)\n",
        "  del dataframe\n",
        "  del datadict\n",
        "  X = X.reshape(-1,128,128,3).astype(\"float32\")\n",
        "\n",
        "  return X/255, Y\n",
        "\n",
        "\n",
        "dirs = '/content/drive/My Drive/withoutrandomcrop/*'\n",
        "X, y = load_dataset(dirs)\n",
        "plt.imshow(X[3])\n",
        "\n",
        "# Invoke the above function to get our data.\n",
        "x_test, y_test, x_train, y_train = do_the_test_train_split(X, y)\n",
        "\n",
        "print('Train data shape:   ', x_train.shape)\n",
        "print('Train labels shape: ', y_train.shape)\n",
        "print('Test data shape:    ', x_test.shape)\n",
        "print('Test labels shape:  ', y_test.shape)"
      ],
      "execution_count": null,
      "outputs": [
        {
          "output_type": "stream",
          "text": [
            "/content/drive/My Drive/withoutrandomcrop/save_sarees_900.p\n",
            "(1085, 49153)\n",
            "/content/drive/My Drive/withoutrandomcrop/save_kurtis_900.p\n",
            "(1588, 49153)\n",
            "/content/drive/My Drive/withoutrandomcrop/save_sarees_910.p\n",
            "(395, 49153)\n",
            "/content/drive/My Drive/withoutrandomcrop/save_kurtis_491.p\n",
            "(501, 49153)\n",
            "/content/drive/My Drive/withoutrandomcrop/save_tshirts_900.p\n",
            "(826, 49153)\n",
            "/content/drive/My Drive/withoutrandomcrop/save_formal_shirts_1200.p\n",
            "(107, 49153)\n",
            "/content/drive/My Drive/withoutrandomcrop/save_kurtis_1900.p\n",
            "(926, 49153)\n",
            "/content/drive/My Drive/withoutrandomcrop/save_tshirts_1200.p\n",
            "(279, 49153)\n",
            "/content/drive/My Drive/withoutrandomcrop/Copy of save_formal_shirts_1164.p\n",
            "(1565, 49153)\n",
            "x.shape (7272, 49152)\n",
            "y.shape (7272,)\n",
            "Train data shape:    (6972, 128, 128, 3)\n",
            "Train labels shape:  (6972,)\n",
            "Test data shape:     (300, 128, 128, 3)\n",
            "Test labels shape:   (300,)\n"
          ],
          "name": "stdout"
        },
        {
          "output_type": "display_data",
          "data": {
            "image/png": "[encoded data removed]",
            "text/plain": [
              "<Figure size 432x288 with 1 Axes>"
            ]
          },
          "metadata": {
            "tags": [],
            "needs_background": "light"
          }
        }
      ]
    },
    {
      "cell_type": "code",
      "metadata": {
        "id": "9xvWb84Z7G-W"
      },
      "source": [
        "from sklearn.preprocessing import OneHotEncoder"
      ],
      "execution_count": null,
      "outputs": []
    },
    {
      "cell_type": "code",
      "metadata": {
        "id": "TKEgclwR7Knq"
      },
      "source": [
        "enc = OneHotEncoder(sparse=False)\n",
        "y_train = np.reshape(y_train, (-1,1))\n",
        "y_train = enc.fit_transform(y_train)"
      ],
      "execution_count": null,
      "outputs": []
    },
    {
      "cell_type": "code",
      "metadata": {
        "id": "nmLGb3X5Ung-",
        "colab": {
          "base_uri": "https://localhost:8080/",
          "height": 35
        },
        "outputId": "069e6a98-7ebf-4bcf-d6c5-1f7025699b9d"
      },
      "source": [
        "y_train.shape"
      ],
      "execution_count": null,
      "outputs": [
        {
          "output_type": "execute_result",
          "data": {
            "text/plain": [
              "(6972, 4)"
            ]
          },
          "metadata": {
            "tags": []
          },
          "execution_count": 8
        }
      ]
    },
    {
      "cell_type": "code",
      "metadata": {
        "id": "1e7jlRdDZmV9",
        "colab": {
          "base_uri": "https://localhost:8080/",
          "height": 338
        },
        "outputId": "127405d8-8378-40c8-e6f7-4fd444ec34cf"
      },
      "source": [
        "image = x_train[20]\n",
        "plt.xlabel(y_train[20])\n",
        " \n",
        "plt.imshow(image)\n",
        "plt.show()"
      ],
      "execution_count": null,
      "outputs": [
        {
          "output_type": "stream",
          "text": [
            "/usr/local/lib/python3.6/dist-packages/matplotlib/text.py:1165: FutureWarning: elementwise comparison failed; returning scalar instead, but in the future will perform elementwise comparison\n",
            "  if s != self._text:\n"
          ],
          "name": "stderr"
        },
        {
          "output_type": "display_data",
          "data": {
            "image/png": "[encoded data removed]",
            "text/plain": [
              "<Figure size 432x288 with 1 Axes>"
            ]
          },
          "metadata": {
            "tags": [],
            "needs_background": "light"
          }
        }
      ]
    },
    {
      "cell_type": "code",
      "metadata": {
        "id": "wtP39FKCtw6f",
        "colab": {
          "base_uri": "https://localhost:8080/",
          "height": 72
        },
        "outputId": "78217b30-2d92-488a-8e15-ce45a10b38ee"
      },
      "source": [
        "# #this cell is crashing due to using us all the RAM \n",
        "# datagen = keras.preprocessing.image.ImageDataGenerator(\n",
        "#     featurewise_center=True,\n",
        "#     samplewise_center=False,\n",
        "#     featurewise_std_normalization=True,\n",
        "#     samplewise_std_normalization=False,\n",
        "#     zca_whitening=True,\n",
        "#     zca_epsilon=1e-06,\n",
        "#     rotation_range=90,\n",
        "#     width_shift_range=[-50, 50],\n",
        "#     height_shift_range=[-50, 50],do_do_\n",
        "#     brightness_range=None,\n",
        "#     shear_range=10,\n",
        "#     zoom_range=[-20, 20],\n",
        "#     channel_shift_range=0.0,\n",
        "#     fill_mode=\"nearest\",\n",
        "#     cval=0.0,\n",
        "#     horizontal_flip=True,\n",
        "#     vertical_flip=True,\n",
        "#     rescale=None,\n",
        "#     preprocessing_function=None,\n",
        "#     data_format=None,\n",
        "#     validation_split=0.33,\n",
        "#     dtype=None,\n",
        "# )\n",
        "# datagen.fit(x_train[:100])\n"
      ],
      "execution_count": null,
      "outputs": [
        {
          "output_type": "stream",
          "text": [
            "/usr/local/lib/python3.6/dist-packages/keras_preprocessing/image/image_data_generator.py:342: UserWarning: This ImageDataGenerator specifies `zca_whitening` which overrides setting of`featurewise_std_normalization`.\n",
            "  warnings.warn('This ImageDataGenerator specifies '\n"
          ],
          "name": "stderr"
        }
      ]
    },
    {
      "cell_type": "code",
      "metadata": {
        "id": "q0-b-V3XpOjt"
      },
      "source": [
        "# Spliting into train and validation set\n",
        "\n",
        "from sklearn.model_selection import train_test_split\n",
        "x_train, x_val, y_train, y_val = train_test_split(x_train, y_train, test_size=0.23, random_state=45)"
      ],
      "execution_count": null,
      "outputs": []
    },
    {
      "cell_type": "code",
      "metadata": {
        "id": "xdHUEDaTurQ5"
      },
      "source": [
        "from keras.preprocessing.image import ImageDataGenerator\n",
        "from sklearn.model_selection import train_test_split\n",
        "\n",
        "# create data generator \n",
        "datagen = ImageDataGenerator(width_shift_range=0.1, height_shift_range=0.1, horizontal_flip=True)\n",
        "\n",
        "# prepare iterator\n",
        "it_train = datagen.flow(x_train, y_train, batch_size = 32)\n",
        "\n",
        "steps = int(x_train.shape[0] / 32)"
      ],
      "execution_count": null,
      "outputs": []
    },
    {
      "cell_type": "code",
      "metadata": {
        "id": "SnjeNs9PozR2"
      },
      "source": [
        "from keras.models import Sequential\n",
        "from keras.layers import Dense, Activation, Dropout, Flatten, Conv2D, MaxPooling2D, BatchNormalization\n",
        "# from tensorflow import keras \n",
        "from keras.callbacks import TensorBoard\n",
        "import keras\n",
        "from keras.layers import LeakyReLU\n",
        "from keras.optimizers import Adam"
      ],
      "execution_count": null,
      "outputs": []
    },
    {
      "cell_type": "code",
      "metadata": {
        "id": "4cYieC1K1rai"
      },
      "source": [
        "model = Sequential()\n",
        "# 1st Convolutional Layer\n",
        "model.add(Conv2D(filters=32, input_shape=(128,128,3),kernel_size=(3,3), strides=(1,1), padding='valid',kernel_initializer= 'glorot_normal'))\n",
        "model.add(LeakyReLU(0.3))\n",
        "model.add(BatchNormalization())\n",
        "# model.add(Dropout(0.2))\n",
        "# 2nd Convolutional Layer\n",
        "model.add(Conv2D(filters=32, kernel_size=(3,3), strides=(1,1),padding='valid',kernel_initializer= 'glorot_normal'))\n",
        "model.add(LeakyReLU(0.3))\n",
        "model.add(BatchNormalization())\n",
        "\n",
        "model.add(Dropout(0.2))\n",
        "\n",
        "model.add(MaxPooling2D(pool_size=(2,2), strides=(1,1), padding='valid'))\n",
        "\n",
        "# 3rd Convolutional Layer\n",
        "model.add(Conv2D(filters=64, kernel_size=(3,3),strides=(1,1), padding='valid',kernel_initializer= 'glorot_normal'))\n",
        "model.add(LeakyReLU(0.3))\n",
        "model.add(BatchNormalization())\n",
        "\n",
        "#model.add(Dropout(0.2))\n",
        "\n",
        "# 4th Convolutional Layer\n",
        "\n",
        "\n",
        "model.add(Conv2D(filters=64, kernel_size=(3,3) ,strides=(2,2), padding='valid',kernel_initializer= 'glorot_normal'))\n",
        "model.add(LeakyReLU(0.3))\n",
        "model.add(BatchNormalization())\n",
        "\n",
        "model.add(MaxPooling2D(pool_size=(2,2), strides=(1,1), padding='valid'))\n",
        "#model.add(Dropout(0.2))\n",
        "\n",
        "model.add(Conv2D(filters=128, kernel_size=(3,3),strides=(1,1), padding='valid',kernel_initializer= 'glorot_normal'))\n",
        "model.add(LeakyReLU(0.3))\n",
        "model.add(BatchNormalization())\n",
        "\n",
        "model.add(Dropout(0.2))\n",
        "\n",
        "# 5th Convolutional Layer\n",
        "\n",
        "\n",
        "model.add(Conv2D(filters=128, kernel_size=(3,3) ,strides=(2,2), padding='valid',kernel_initializer= 'glorot_normal'))\n",
        "model.add(LeakyReLU(0.3))\n",
        "model.add(BatchNormalization())\n",
        "\n",
        "model.add(MaxPooling2D(pool_size=(2,2), strides=(1,1), padding='valid'))\n",
        "#model.add(Dropout(0.2))\n",
        "#6th convolutional Layer\n",
        "model.add(Conv2D(filters=256, kernel_size=(3,3),strides=(1,1), padding='valid',kernel_initializer= 'glorot_normal'))\n",
        "model.add(LeakyReLU(0.3))\n",
        "\n",
        "model.add(Dropout(0.2))\n",
        "\n",
        "# 7th Convolutional Layer\n",
        "\n",
        "model.add(Conv2D(filters=512, kernel_size=(3,3) ,strides=(2,2), padding='valid',kernel_initializer= 'glorot_normal'))\n",
        "model.add(LeakyReLU(0.3))\n",
        "\n",
        "model.add(MaxPooling2D(pool_size=(2,2), strides=(1,1), padding='valid'))\n",
        "#model.add(Dropout(0.2))\n",
        "\n",
        "model.add(Conv2D(filters=512, kernel_size=(3,3),strides=(1,1), padding='valid',kernel_initializer= 'glorot_normal'))\n",
        "model.add(LeakyReLU(0.3))\n",
        "\n",
        "model.add(Dropout(0.2))\n",
        "\n",
        "# 8th Convolutional Layer\n",
        "\n",
        "model.add(Conv2D(filters= 512, kernel_size=(3,3) ,strides=(2,2), padding='valid',kernel_initializer= 'glorot_normal'))\n",
        "model.add(LeakyReLU(0.5))\n",
        "\n",
        "model.add(MaxPooling2D(pool_size=(2,2), strides=(1,1), padding='valid'))\n",
        "model.add(Dropout(0.2))\n",
        "\n",
        "\n",
        "# Passing it to a Fully Connected layer\n",
        "model.add(Flatten())\n",
        "# 1st Fully Connected Layer\n",
        "model.add(Dense( 512, input_shape=(32*32*3,)))\n",
        "model.add(LeakyReLU(0.3))\n",
        "\n",
        "model.add(Dropout(0.5))\n",
        "\n",
        "model.add(Dense(128, input_shape=(32*32*3,)))\n",
        "model.add(LeakyReLU(0.3))\n",
        "\n",
        "# model.add(Dropout(0.2))\n",
        "\n",
        "# Output Layer\n",
        "model.add(Dense(4))\n",
        "model.add(Activation('softmax'))"
      ],
      "execution_count": null,
      "outputs": []
    },
    {
      "cell_type": "code",
      "metadata": {
        "id": "uqpILMql1uYi"
      },
      "source": [
        "#once the model architechture is ready the model is compiled\n",
        "# For a multi-class classification problem\n",
        "opt =  Adam(learning_rate=0.001, beta_1=0.9, beta_2=0.999, amsgrad=True)\n",
        "model.compile(optimizer= opt,\n",
        "              loss='categorical_crossentropy',\n",
        "              metrics=['accuracy'])"
      ],
      "execution_count": null,
      "outputs": []
    },
    {
      "cell_type": "code",
      "metadata": {
        "id": "LQp04ZnfFZSC",
        "colab": {
          "base_uri": "https://localhost:8080/",
          "height": 1000
        },
        "outputId": "d51df8e8-1005-447e-f762-dd81a9e120ce"
      },
      "source": [
        "model.summary()"
      ],
      "execution_count": null,
      "outputs": [
        {
          "output_type": "stream",
          "text": [
            "Model: \"sequential_1\"\n",
            "_________________________________________________________________\n",
            "Layer (type)                 Output Shape              Param #   \n",
            "=================================================================\n",
            "conv2d_1 (Conv2D)            (None, 126, 126, 32)      896       \n",
            "_________________________________________________________________\n",
            "leaky_re_lu_1 (LeakyReLU)    (None, 126, 126, 32)      0         \n",
            "_________________________________________________________________\n",
            "batch_normalization_1 (Batch (None, 126, 126, 32)      128       \n",
            "_________________________________________________________________\n",
            "conv2d_2 (Conv2D)            (None, 124, 124, 32)      9248      \n",
            "_________________________________________________________________\n",
            "leaky_re_lu_2 (LeakyReLU)    (None, 124, 124, 32)      0         \n",
            "_________________________________________________________________\n",
            "batch_normalization_2 (Batch (None, 124, 124, 32)      128       \n",
            "_________________________________________________________________\n",
            "dropout_1 (Dropout)          (None, 124, 124, 32)      0         \n",
            "_________________________________________________________________\n",
            "max_pooling2d_1 (MaxPooling2 (None, 123, 123, 32)      0         \n",
            "_________________________________________________________________\n",
            "conv2d_3 (Conv2D)            (None, 121, 121, 64)      18496     \n",
            "_________________________________________________________________\n",
            "leaky_re_lu_3 (LeakyReLU)    (None, 121, 121, 64)      0         \n",
            "_________________________________________________________________\n",
            "batch_normalization_3 (Batch (None, 121, 121, 64)      256       \n",
            "_________________________________________________________________\n",
            "conv2d_4 (Conv2D)            (None, 60, 60, 64)        36928     \n",
            "_________________________________________________________________\n",
            "leaky_re_lu_4 (LeakyReLU)    (None, 60, 60, 64)        0         \n",
            "_________________________________________________________________\n",
            "batch_normalization_4 (Batch (None, 60, 60, 64)        256       \n",
            "_________________________________________________________________\n",
            "max_pooling2d_2 (MaxPooling2 (None, 59, 59, 64)        0         \n",
            "_________________________________________________________________\n",
            "conv2d_5 (Conv2D)            (None, 57, 57, 128)       73856     \n",
            "_________________________________________________________________\n",
            "leaky_re_lu_5 (LeakyReLU)    (None, 57, 57, 128)       0         \n",
            "_________________________________________________________________\n",
            "batch_normalization_5 (Batch (None, 57, 57, 128)       512       \n",
            "_________________________________________________________________\n",
            "dropout_2 (Dropout)          (None, 57, 57, 128)       0         \n",
            "_________________________________________________________________\n",
            "conv2d_6 (Conv2D)            (None, 28, 28, 128)       147584    \n",
            "_________________________________________________________________\n",
            "leaky_re_lu_6 (LeakyReLU)    (None, 28, 28, 128)       0         \n",
            "_________________________________________________________________\n",
            "batch_normalization_6 (Batch (None, 28, 28, 128)       512       \n",
            "_________________________________________________________________\n",
            "max_pooling2d_3 (MaxPooling2 (None, 27, 27, 128)       0         \n",
            "_________________________________________________________________\n",
            "conv2d_7 (Conv2D)            (None, 25, 25, 256)       295168    \n",
            "_________________________________________________________________\n",
            "leaky_re_lu_7 (LeakyReLU)    (None, 25, 25, 256)       0         \n",
            "_________________________________________________________________\n",
            "dropout_3 (Dropout)          (None, 25, 25, 256)       0         \n",
            "_________________________________________________________________\n",
            "conv2d_8 (Conv2D)            (None, 12, 12, 512)       1180160   \n",
            "_________________________________________________________________\n",
            "leaky_re_lu_8 (LeakyReLU)    (None, 12, 12, 512)       0         \n",
            "_________________________________________________________________\n",
            "max_pooling2d_4 (MaxPooling2 (None, 11, 11, 512)       0         \n",
            "_________________________________________________________________\n",
            "conv2d_9 (Conv2D)            (None, 9, 9, 512)         2359808   \n",
            "_________________________________________________________________\n",
            "leaky_re_lu_9 (LeakyReLU)    (None, 9, 9, 512)         0         \n",
            "_________________________________________________________________\n",
            "dropout_4 (Dropout)          (None, 9, 9, 512)         0         \n",
            "_________________________________________________________________\n",
            "conv2d_10 (Conv2D)           (None, 4, 4, 512)         2359808   \n",
            "_________________________________________________________________\n",
            "leaky_re_lu_10 (LeakyReLU)   (None, 4, 4, 512)         0         \n",
            "_________________________________________________________________\n",
            "max_pooling2d_5 (MaxPooling2 (None, 3, 3, 512)         0         \n",
            "_________________________________________________________________\n",
            "dropout_5 (Dropout)          (None, 3, 3, 512)         0         \n",
            "_________________________________________________________________\n",
            "flatten_1 (Flatten)          (None, 4608)              0         \n",
            "_________________________________________________________________\n",
            "dense_1 (Dense)              (None, 512)               2359808   \n",
            "_________________________________________________________________\n",
            "leaky_re_lu_11 (LeakyReLU)   (None, 512)               0         \n",
            "_________________________________________________________________\n",
            "dropout_6 (Dropout)          (None, 512)               0         \n",
            "_________________________________________________________________\n",
            "dense_2 (Dense)              (None, 128)               65664     \n",
            "_________________________________________________________________\n",
            "leaky_re_lu_12 (LeakyReLU)   (None, 128)               0         \n",
            "_________________________________________________________________\n",
            "dense_3 (Dense)              (None, 4)                 516       \n",
            "_________________________________________________________________\n",
            "activation_1 (Activation)    (None, 4)                 0         \n",
            "=================================================================\n",
            "Total params: 8,909,732\n",
            "Trainable params: 8,908,836\n",
            "Non-trainable params: 896\n",
            "_________________________________________________________________\n"
          ],
          "name": "stdout"
        }
      ]
    },
    {
      "cell_type": "code",
      "metadata": {
        "id": "xztqTOtBpuBj",
        "colab": {
          "base_uri": "https://localhost:8080/",
          "height": 1000
        },
        "outputId": "351bd67d-c884-4b82-80d9-70217d1196e3"
      },
      "source": [
        "model.fit_generator(it_train,epochs=250,steps_per_epoch = steps, \n",
        "                   validation_data=(x_val, y_val) , validation_steps= None)"
      ],
      "execution_count": null,
      "outputs": [
        {
          "output_type": "stream",
          "text": [
            "Epoch 1/250\n",
            "217/217 [==============================] - 40s 182ms/step - loss: 4.4102 - accuracy: 0.4324 - val_loss: 1.5877 - val_accuracy: 0.2637\n",
            "Epoch 2/250\n",
            "217/217 [==============================] - 32s 146ms/step - loss: 1.0438 - accuracy: 0.5259 - val_loss: 1.4323 - val_accuracy: 0.4377\n",
            "Epoch 3/250\n",
            "217/217 [==============================] - 32s 146ms/step - loss: 0.9650 - accuracy: 0.5654 - val_loss: 0.8795 - val_accuracy: 0.6041\n",
            "Epoch 4/250\n",
            "217/217 [==============================] - 32s 146ms/step - loss: 0.9047 - accuracy: 0.5964 - val_loss: 0.8077 - val_accuracy: 0.6658\n",
            "Epoch 5/250\n",
            "217/217 [==============================] - 32s 146ms/step - loss: 0.8472 - accuracy: 0.6216 - val_loss: 1.3840 - val_accuracy: 0.5792\n",
            "Epoch 6/250\n",
            "217/217 [==============================] - 32s 146ms/step - loss: 0.8119 - accuracy: 0.6504 - val_loss: 0.8560 - val_accuracy: 0.6584\n",
            "Epoch 7/250\n",
            "217/217 [==============================] - 32s 145ms/step - loss: 0.8039 - accuracy: 0.6617 - val_loss: 0.6633 - val_accuracy: 0.7263\n",
            "Epoch 8/250\n",
            "217/217 [==============================] - 31s 145ms/step - loss: 0.7350 - accuracy: 0.6852 - val_loss: 0.6868 - val_accuracy: 0.7170\n",
            "Epoch 9/250\n",
            "217/217 [==============================] - 32s 145ms/step - loss: 0.7214 - accuracy: 0.6942 - val_loss: 0.7101 - val_accuracy: 0.6920\n",
            "Epoch 10/250\n",
            "217/217 [==============================] - 31s 145ms/step - loss: 0.7019 - accuracy: 0.7023 - val_loss: 0.5435 - val_accuracy: 0.7724\n",
            "Epoch 11/250\n",
            "217/217 [==============================] - 31s 145ms/step - loss: 0.6715 - accuracy: 0.7207 - val_loss: 0.7740 - val_accuracy: 0.6771\n",
            "Epoch 12/250\n",
            "217/217 [==============================] - 32s 145ms/step - loss: 0.6524 - accuracy: 0.7287 - val_loss: 0.6038 - val_accuracy: 0.7581\n",
            "Epoch 13/250\n",
            "217/217 [==============================] - 31s 144ms/step - loss: 0.6146 - accuracy: 0.7458 - val_loss: 0.4762 - val_accuracy: 0.7999\n",
            "Epoch 14/250\n",
            "217/217 [==============================] - 31s 145ms/step - loss: 0.5873 - accuracy: 0.7535 - val_loss: 0.5144 - val_accuracy: 0.7862\n",
            "Epoch 15/250\n",
            "217/217 [==============================] - 31s 144ms/step - loss: 0.5924 - accuracy: 0.7614 - val_loss: 0.5178 - val_accuracy: 0.7874\n",
            "Epoch 16/250\n",
            "217/217 [==============================] - 31s 144ms/step - loss: 0.5714 - accuracy: 0.7650 - val_loss: 0.4825 - val_accuracy: 0.7980\n",
            "Epoch 17/250\n",
            "217/217 [==============================] - 31s 144ms/step - loss: 0.5516 - accuracy: 0.7754 - val_loss: 0.6134 - val_accuracy: 0.7388\n",
            "Epoch 18/250\n",
            "217/217 [==============================] - 31s 144ms/step - loss: 0.5436 - accuracy: 0.7826 - val_loss: 0.4739 - val_accuracy: 0.8155\n",
            "Epoch 19/250\n",
            "217/217 [==============================] - 31s 143ms/step - loss: 0.5315 - accuracy: 0.7829 - val_loss: 0.5102 - val_accuracy: 0.7893\n",
            "Epoch 20/250\n",
            "217/217 [==============================] - 31s 143ms/step - loss: 0.5234 - accuracy: 0.7861 - val_loss: 0.5110 - val_accuracy: 0.7924\n",
            "Epoch 21/250\n",
            "217/217 [==============================] - 31s 143ms/step - loss: 0.5241 - accuracy: 0.7901 - val_loss: 0.4119 - val_accuracy: 0.8367\n",
            "Epoch 22/250\n",
            "217/217 [==============================] - 31s 143ms/step - loss: 0.4852 - accuracy: 0.8059 - val_loss: 0.3864 - val_accuracy: 0.8479\n",
            "Epoch 23/250\n",
            "217/217 [==============================] - 31s 143ms/step - loss: 0.4768 - accuracy: 0.8039 - val_loss: 0.4248 - val_accuracy: 0.8323\n",
            "Epoch 24/250\n",
            "217/217 [==============================] - 31s 143ms/step - loss: 0.4492 - accuracy: 0.8193 - val_loss: 0.3630 - val_accuracy: 0.8522\n",
            "Epoch 25/250\n",
            "217/217 [==============================] - 31s 143ms/step - loss: 0.4645 - accuracy: 0.8143 - val_loss: 0.3757 - val_accuracy: 0.8504\n",
            "Epoch 26/250\n",
            "217/217 [==============================] - 31s 142ms/step - loss: 0.4509 - accuracy: 0.8246 - val_loss: 0.3938 - val_accuracy: 0.8423\n",
            "Epoch 27/250\n",
            "217/217 [==============================] - 31s 142ms/step - loss: 0.4559 - accuracy: 0.8235 - val_loss: 0.3966 - val_accuracy: 0.8398\n",
            "Epoch 28/250\n",
            "217/217 [==============================] - 31s 142ms/step - loss: 0.4398 - accuracy: 0.8259 - val_loss: 0.4006 - val_accuracy: 0.8323\n",
            "Epoch 29/250\n",
            "217/217 [==============================] - 31s 142ms/step - loss: 0.4274 - accuracy: 0.8353 - val_loss: 0.3550 - val_accuracy: 0.8591\n",
            "Epoch 30/250\n",
            "217/217 [==============================] - 31s 142ms/step - loss: 0.4304 - accuracy: 0.8293 - val_loss: 0.3529 - val_accuracy: 0.8547\n",
            "Epoch 31/250\n",
            "217/217 [==============================] - 31s 142ms/step - loss: 0.4252 - accuracy: 0.8345 - val_loss: 0.3309 - val_accuracy: 0.8722\n",
            "Epoch 32/250\n",
            "217/217 [==============================] - 31s 143ms/step - loss: 0.4162 - accuracy: 0.8344 - val_loss: 0.3192 - val_accuracy: 0.8840\n",
            "Epoch 33/250\n",
            "217/217 [==============================] - 31s 142ms/step - loss: 0.4084 - accuracy: 0.8434 - val_loss: 0.3317 - val_accuracy: 0.8753\n",
            "Epoch 34/250\n",
            "217/217 [==============================] - 31s 142ms/step - loss: 0.4170 - accuracy: 0.8390 - val_loss: 0.4367 - val_accuracy: 0.8329\n",
            "Epoch 35/250\n",
            "217/217 [==============================] - 31s 143ms/step - loss: 0.3863 - accuracy: 0.8519 - val_loss: 0.4108 - val_accuracy: 0.8379\n",
            "Epoch 36/250\n",
            "217/217 [==============================] - 31s 142ms/step - loss: 0.3904 - accuracy: 0.8497 - val_loss: 0.2398 - val_accuracy: 0.9021\n",
            "Epoch 37/250\n",
            "217/217 [==============================] - 31s 141ms/step - loss: 0.3931 - accuracy: 0.8478 - val_loss: 0.2502 - val_accuracy: 0.9034\n",
            "Epoch 38/250\n",
            "217/217 [==============================] - 31s 142ms/step - loss: 0.3643 - accuracy: 0.8604 - val_loss: 0.2384 - val_accuracy: 0.9146\n",
            "Epoch 39/250\n",
            "217/217 [==============================] - 31s 142ms/step - loss: 0.3549 - accuracy: 0.8598 - val_loss: 0.2694 - val_accuracy: 0.9002\n",
            "Epoch 40/250\n",
            "217/217 [==============================] - 31s 142ms/step - loss: 0.3436 - accuracy: 0.8668 - val_loss: 0.2896 - val_accuracy: 0.8797\n",
            "Epoch 41/250\n",
            "217/217 [==============================] - 31s 142ms/step - loss: 0.3577 - accuracy: 0.8594 - val_loss: 0.3803 - val_accuracy: 0.8572\n",
            "Epoch 42/250\n",
            "217/217 [==============================] - 31s 142ms/step - loss: 0.3531 - accuracy: 0.8663 - val_loss: 0.3221 - val_accuracy: 0.8766\n",
            "Epoch 43/250\n",
            "217/217 [==============================] - 31s 143ms/step - loss: 0.3583 - accuracy: 0.8641 - val_loss: 0.3793 - val_accuracy: 0.8678\n",
            "Epoch 44/250\n",
            "217/217 [==============================] - 31s 142ms/step - loss: 0.3436 - accuracy: 0.8718 - val_loss: 0.2241 - val_accuracy: 0.9115\n",
            "Epoch 45/250\n",
            "217/217 [==============================] - 31s 142ms/step - loss: 0.3249 - accuracy: 0.8733 - val_loss: 0.2591 - val_accuracy: 0.9052\n",
            "Epoch 46/250\n",
            "217/217 [==============================] - 31s 142ms/step - loss: 0.3310 - accuracy: 0.8712 - val_loss: 0.3491 - val_accuracy: 0.8703\n",
            "Epoch 47/250\n",
            "217/217 [==============================] - 31s 142ms/step - loss: 0.3206 - accuracy: 0.8782 - val_loss: 0.2916 - val_accuracy: 0.8903\n",
            "Epoch 48/250\n",
            "217/217 [==============================] - 31s 141ms/step - loss: 0.3158 - accuracy: 0.8803 - val_loss: 0.2571 - val_accuracy: 0.8928\n",
            "Epoch 49/250\n",
            "217/217 [==============================] - 30s 140ms/step - loss: 0.3269 - accuracy: 0.8759 - val_loss: 0.2919 - val_accuracy: 0.8859\n",
            "Epoch 50/250\n",
            "217/217 [==============================] - 30s 141ms/step - loss: 0.3212 - accuracy: 0.8751 - val_loss: 0.2740 - val_accuracy: 0.8859\n",
            "Epoch 51/250\n",
            "217/217 [==============================] - 31s 141ms/step - loss: 0.3049 - accuracy: 0.8790 - val_loss: 0.3036 - val_accuracy: 0.8734\n",
            "Epoch 52/250\n",
            "217/217 [==============================] - 31s 141ms/step - loss: 0.3281 - accuracy: 0.8728 - val_loss: 0.2717 - val_accuracy: 0.8959\n",
            "Epoch 53/250\n",
            "217/217 [==============================] - 31s 141ms/step - loss: 0.2916 - accuracy: 0.8909 - val_loss: 0.2122 - val_accuracy: 0.9190\n",
            "Epoch 54/250\n",
            "217/217 [==============================] - 30s 140ms/step - loss: 0.2802 - accuracy: 0.8936 - val_loss: 0.1845 - val_accuracy: 0.9308\n",
            "Epoch 55/250\n",
            "217/217 [==============================] - 31s 141ms/step - loss: 0.2980 - accuracy: 0.8852 - val_loss: 0.2011 - val_accuracy: 0.9190\n",
            "Epoch 56/250\n",
            "217/217 [==============================] - 30s 140ms/step - loss: 0.2910 - accuracy: 0.8937 - val_loss: 0.1758 - val_accuracy: 0.9302\n",
            "Epoch 57/250\n",
            "217/217 [==============================] - 30s 140ms/step - loss: 0.2803 - accuracy: 0.8941 - val_loss: 0.4782 - val_accuracy: 0.8554\n",
            "Epoch 58/250\n",
            "217/217 [==============================] - 30s 140ms/step - loss: 0.3016 - accuracy: 0.8853 - val_loss: 0.1780 - val_accuracy: 0.9289\n",
            "Epoch 59/250\n",
            "217/217 [==============================] - 30s 141ms/step - loss: 0.2813 - accuracy: 0.8952 - val_loss: 0.2342 - val_accuracy: 0.9102\n",
            "Epoch 60/250\n",
            "217/217 [==============================] - 30s 140ms/step - loss: 0.2933 - accuracy: 0.8865 - val_loss: 0.1984 - val_accuracy: 0.9214\n",
            "Epoch 61/250\n",
            "217/217 [==============================] - 30s 140ms/step - loss: 0.3111 - accuracy: 0.8852 - val_loss: 0.2123 - val_accuracy: 0.9121\n",
            "Epoch 62/250\n",
            "217/217 [==============================] - 31s 141ms/step - loss: 0.2600 - accuracy: 0.9014 - val_loss: 0.1451 - val_accuracy: 0.9451\n",
            "Epoch 63/250\n",
            "217/217 [==============================] - 30s 140ms/step - loss: 0.2620 - accuracy: 0.9001 - val_loss: 0.2269 - val_accuracy: 0.9121\n",
            "Epoch 64/250\n",
            "217/217 [==============================] - 31s 141ms/step - loss: 0.2835 - accuracy: 0.8970 - val_loss: 0.1758 - val_accuracy: 0.9302\n",
            "Epoch 65/250\n",
            "217/217 [==============================] - 31s 141ms/step - loss: 0.2473 - accuracy: 0.9081 - val_loss: 0.2138 - val_accuracy: 0.9190\n",
            "Epoch 66/250\n",
            "217/217 [==============================] - 30s 140ms/step - loss: 0.2432 - accuracy: 0.9091 - val_loss: 0.1589 - val_accuracy: 0.9426\n",
            "Epoch 67/250\n",
            "217/217 [==============================] - 30s 140ms/step - loss: 0.2527 - accuracy: 0.9059 - val_loss: 0.1606 - val_accuracy: 0.9414\n",
            "Epoch 68/250\n",
            "217/217 [==============================] - 30s 140ms/step - loss: 0.2542 - accuracy: 0.9023 - val_loss: 0.2019 - val_accuracy: 0.9183\n",
            "Epoch 69/250\n",
            "217/217 [==============================] - 30s 140ms/step - loss: 0.2473 - accuracy: 0.9092 - val_loss: 0.2884 - val_accuracy: 0.8915\n",
            "Epoch 70/250\n",
            "217/217 [==============================] - 30s 140ms/step - loss: 0.2542 - accuracy: 0.9087 - val_loss: 0.1532 - val_accuracy: 0.9401\n",
            "Epoch 71/250\n",
            "217/217 [==============================] - 30s 140ms/step - loss: 0.2272 - accuracy: 0.9159 - val_loss: 0.1392 - val_accuracy: 0.9414\n",
            "Epoch 72/250\n",
            "217/217 [==============================] - 31s 141ms/step - loss: 0.2181 - accuracy: 0.9206 - val_loss: 0.1429 - val_accuracy: 0.9489\n",
            "Epoch 73/250\n",
            "217/217 [==============================] - 30s 140ms/step - loss: 0.2516 - accuracy: 0.9086 - val_loss: 0.1790 - val_accuracy: 0.9252\n",
            "Epoch 74/250\n",
            "217/217 [==============================] - 30s 140ms/step - loss: 0.2221 - accuracy: 0.9171 - val_loss: 0.1856 - val_accuracy: 0.9271\n",
            "Epoch 75/250\n",
            "217/217 [==============================] - 31s 142ms/step - loss: 0.2370 - accuracy: 0.9130 - val_loss: 0.1518 - val_accuracy: 0.9377\n",
            "Epoch 76/250\n",
            "217/217 [==============================] - 30s 140ms/step - loss: 0.2358 - accuracy: 0.9117 - val_loss: 0.1517 - val_accuracy: 0.9352\n",
            "Epoch 77/250\n",
            "217/217 [==============================] - 30s 141ms/step - loss: 0.2274 - accuracy: 0.9200 - val_loss: 0.2006 - val_accuracy: 0.9277\n",
            "Epoch 78/250\n",
            "217/217 [==============================] - 31s 141ms/step - loss: 0.2260 - accuracy: 0.9147 - val_loss: 0.1402 - val_accuracy: 0.9445\n",
            "Epoch 79/250\n",
            "217/217 [==============================] - 30s 140ms/step - loss: 0.2310 - accuracy: 0.9151 - val_loss: 0.1471 - val_accuracy: 0.9426\n",
            "Epoch 80/250\n",
            "217/217 [==============================] - 30s 140ms/step - loss: 0.2127 - accuracy: 0.9227 - val_loss: 0.1462 - val_accuracy: 0.9420\n",
            "Epoch 81/250\n",
            "217/217 [==============================] - 30s 140ms/step - loss: 0.2121 - accuracy: 0.9213 - val_loss: 0.2074 - val_accuracy: 0.9233\n",
            "Epoch 82/250\n",
            "217/217 [==============================] - 30s 141ms/step - loss: 0.2466 - accuracy: 0.9122 - val_loss: 0.1603 - val_accuracy: 0.9414\n",
            "Epoch 83/250\n",
            "217/217 [==============================] - 31s 141ms/step - loss: 0.2135 - accuracy: 0.9265 - val_loss: 0.1574 - val_accuracy: 0.9352\n",
            "Epoch 84/250\n",
            "217/217 [==============================] - 30s 139ms/step - loss: 0.2251 - accuracy: 0.9175 - val_loss: 0.1283 - val_accuracy: 0.9520\n",
            "Epoch 85/250\n",
            "217/217 [==============================] - 30s 140ms/step - loss: 0.1940 - accuracy: 0.9305 - val_loss: 0.2192 - val_accuracy: 0.9296\n",
            "Epoch 86/250\n",
            "217/217 [==============================] - 30s 140ms/step - loss: 0.1850 - accuracy: 0.9324 - val_loss: 0.1222 - val_accuracy: 0.9532\n",
            "Epoch 87/250\n",
            "217/217 [==============================] - 30s 140ms/step - loss: 0.2199 - accuracy: 0.9201 - val_loss: 0.1401 - val_accuracy: 0.9476\n",
            "Epoch 88/250\n",
            "217/217 [==============================] - 30s 140ms/step - loss: 0.2016 - accuracy: 0.9273 - val_loss: 0.1176 - val_accuracy: 0.9564\n",
            "Epoch 89/250\n",
            "217/217 [==============================] - 30s 140ms/step - loss: 0.2078 - accuracy: 0.9223 - val_loss: 0.2129 - val_accuracy: 0.9152\n",
            "Epoch 90/250\n",
            "217/217 [==============================] - 30s 140ms/step - loss: 0.1915 - accuracy: 0.9285 - val_loss: 0.0932 - val_accuracy: 0.9657\n",
            "Epoch 91/250\n",
            "217/217 [==============================] - 30s 140ms/step - loss: 0.2302 - accuracy: 0.9160 - val_loss: 0.0907 - val_accuracy: 0.9613\n",
            "Epoch 92/250\n",
            "217/217 [==============================] - 30s 140ms/step - loss: 0.1878 - accuracy: 0.9286 - val_loss: 0.1664 - val_accuracy: 0.9333\n",
            "Epoch 93/250\n",
            "217/217 [==============================] - 30s 140ms/step - loss: 0.2031 - accuracy: 0.9299 - val_loss: 0.1399 - val_accuracy: 0.9489\n",
            "Epoch 94/250\n",
            "217/217 [==============================] - 30s 140ms/step - loss: 0.2041 - accuracy: 0.9245 - val_loss: 0.1357 - val_accuracy: 0.9551\n",
            "Epoch 95/250\n",
            "217/217 [==============================] - 31s 141ms/step - loss: 0.1907 - accuracy: 0.9316 - val_loss: 0.0957 - val_accuracy: 0.9607\n",
            "Epoch 96/250\n",
            "217/217 [==============================] - 32s 146ms/step - loss: 0.1725 - accuracy: 0.9406 - val_loss: 0.0986 - val_accuracy: 0.9645\n",
            "Epoch 97/250\n",
            "217/217 [==============================] - 32s 146ms/step - loss: 0.1818 - accuracy: 0.9358 - val_loss: 0.1883 - val_accuracy: 0.9271\n",
            "Epoch 98/250\n",
            "217/217 [==============================] - 31s 143ms/step - loss: 0.1784 - accuracy: 0.9340 - val_loss: 0.0664 - val_accuracy: 0.9794\n",
            "Epoch 99/250\n",
            "217/217 [==============================] - 31s 142ms/step - loss: 0.1989 - accuracy: 0.9296 - val_loss: 0.0749 - val_accuracy: 0.9794\n",
            "Epoch 100/250\n",
            "217/217 [==============================] - 31s 142ms/step - loss: 0.1764 - accuracy: 0.9351 - val_loss: 0.1080 - val_accuracy: 0.9595\n",
            "Epoch 101/250\n",
            "217/217 [==============================] - 31s 143ms/step - loss: 0.1651 - accuracy: 0.9403 - val_loss: 0.2532 - val_accuracy: 0.9108\n",
            "Epoch 102/250\n",
            "217/217 [==============================] - 31s 142ms/step - loss: 0.1844 - accuracy: 0.9317 - val_loss: 0.1695 - val_accuracy: 0.9358\n",
            "Epoch 103/250\n",
            "217/217 [==============================] - 31s 142ms/step - loss: 0.1930 - accuracy: 0.9288 - val_loss: 0.1349 - val_accuracy: 0.9545\n",
            "Epoch 104/250\n",
            "217/217 [==============================] - 31s 142ms/step - loss: 0.1734 - accuracy: 0.9372 - val_loss: 0.1236 - val_accuracy: 0.9526\n",
            "Epoch 105/250\n",
            "217/217 [==============================] - 31s 142ms/step - loss: 0.1993 - accuracy: 0.9316 - val_loss: 0.1018 - val_accuracy: 0.9607\n",
            "Epoch 106/250\n",
            "217/217 [==============================] - 31s 143ms/step - loss: 0.1852 - accuracy: 0.9346 - val_loss: 0.1067 - val_accuracy: 0.9570\n",
            "Epoch 107/250\n",
            "217/217 [==============================] - 31s 142ms/step - loss: 0.1542 - accuracy: 0.9465 - val_loss: 0.1874 - val_accuracy: 0.9483\n",
            "Epoch 108/250\n",
            "217/217 [==============================] - 31s 142ms/step - loss: 0.1538 - accuracy: 0.9444 - val_loss: 0.1735 - val_accuracy: 0.9352\n",
            "Epoch 109/250\n",
            "217/217 [==============================] - 31s 143ms/step - loss: 0.1552 - accuracy: 0.9455 - val_loss: 0.1403 - val_accuracy: 0.9476\n",
            "Epoch 110/250\n",
            "217/217 [==============================] - 31s 142ms/step - loss: 0.1838 - accuracy: 0.9378 - val_loss: 0.1209 - val_accuracy: 0.9595\n",
            "Epoch 111/250\n",
            "217/217 [==============================] - 31s 142ms/step - loss: 0.1570 - accuracy: 0.9461 - val_loss: 0.2045 - val_accuracy: 0.9327\n",
            "Epoch 112/250\n",
            "217/217 [==============================] - 31s 142ms/step - loss: 0.1698 - accuracy: 0.9399 - val_loss: 0.2240 - val_accuracy: 0.9246\n",
            "Epoch 113/250\n",
            "217/217 [==============================] - 31s 142ms/step - loss: 0.1647 - accuracy: 0.9445 - val_loss: 0.1187 - val_accuracy: 0.9514\n",
            "Epoch 114/250\n",
            "217/217 [==============================] - 31s 145ms/step - loss: 0.1716 - accuracy: 0.9404 - val_loss: 0.0686 - val_accuracy: 0.9744\n",
            "Epoch 115/250\n",
            "217/217 [==============================] - 31s 145ms/step - loss: 0.1608 - accuracy: 0.9468 - val_loss: 0.1098 - val_accuracy: 0.9613\n",
            "Epoch 116/250\n",
            "217/217 [==============================] - 31s 144ms/step - loss: 0.1796 - accuracy: 0.9359 - val_loss: 0.0739 - val_accuracy: 0.9744\n",
            "Epoch 117/250\n",
            "217/217 [==============================] - 31s 143ms/step - loss: 0.1527 - accuracy: 0.9452 - val_loss: 0.1013 - val_accuracy: 0.9601\n",
            "Epoch 118/250\n",
            "217/217 [==============================] - 31s 144ms/step - loss: 0.1633 - accuracy: 0.9427 - val_loss: 0.4131 - val_accuracy: 0.8971\n",
            "Epoch 119/250\n",
            "217/217 [==============================] - 32s 146ms/step - loss: 0.1603 - accuracy: 0.9437 - val_loss: 0.0902 - val_accuracy: 0.9626\n",
            "Epoch 120/250\n",
            "217/217 [==============================] - 32s 146ms/step - loss: 0.1736 - accuracy: 0.9431 - val_loss: 0.1314 - val_accuracy: 0.9470\n",
            "Epoch 121/250\n",
            "217/217 [==============================] - 32s 145ms/step - loss: 0.1384 - accuracy: 0.9523 - val_loss: 0.0787 - val_accuracy: 0.9744\n",
            "Epoch 122/250\n",
            "217/217 [==============================] - 32s 145ms/step - loss: 0.1381 - accuracy: 0.9493 - val_loss: 0.1996 - val_accuracy: 0.9364\n",
            "Epoch 123/250\n",
            "217/217 [==============================] - 32s 145ms/step - loss: 0.1709 - accuracy: 0.9412 - val_loss: 0.0690 - val_accuracy: 0.9769\n",
            "Epoch 124/250\n",
            "217/217 [==============================] - 32s 146ms/step - loss: 0.1427 - accuracy: 0.9513 - val_loss: 0.0840 - val_accuracy: 0.9695\n",
            "Epoch 125/250\n",
            "217/217 [==============================] - 32s 146ms/step - loss: 0.1323 - accuracy: 0.9533 - val_loss: 0.1100 - val_accuracy: 0.9620\n",
            "Epoch 126/250\n",
            "217/217 [==============================] - 32s 146ms/step - loss: 0.1427 - accuracy: 0.9480 - val_loss: 0.0700 - val_accuracy: 0.9726\n",
            "Epoch 127/250\n",
            "217/217 [==============================] - 32s 145ms/step - loss: 0.1514 - accuracy: 0.9486 - val_loss: 0.0687 - val_accuracy: 0.9726\n",
            "Epoch 128/250\n",
            "217/217 [==============================] - 32s 146ms/step - loss: 0.1401 - accuracy: 0.9543 - val_loss: 0.0851 - val_accuracy: 0.9663\n",
            "Epoch 129/250\n",
            "217/217 [==============================] - 32s 147ms/step - loss: 0.1286 - accuracy: 0.9564 - val_loss: 0.0942 - val_accuracy: 0.9676\n",
            "Epoch 130/250\n",
            "217/217 [==============================] - 32s 146ms/step - loss: 0.1329 - accuracy: 0.9522 - val_loss: 0.0668 - val_accuracy: 0.9726\n",
            "Epoch 131/250\n",
            "217/217 [==============================] - 32s 145ms/step - loss: 0.1530 - accuracy: 0.9486 - val_loss: 0.0669 - val_accuracy: 0.9732\n",
            "Epoch 132/250\n",
            "217/217 [==============================] - 31s 145ms/step - loss: 0.1603 - accuracy: 0.9482 - val_loss: 0.1425 - val_accuracy: 0.9507\n",
            "Epoch 133/250\n",
            "217/217 [==============================] - 31s 144ms/step - loss: 0.1244 - accuracy: 0.9582 - val_loss: 0.0832 - val_accuracy: 0.9707\n",
            "Epoch 134/250\n",
            "217/217 [==============================] - 31s 143ms/step - loss: 0.1570 - accuracy: 0.9476 - val_loss: 0.1183 - val_accuracy: 0.9570\n",
            "Epoch 135/250\n",
            "217/217 [==============================] - 31s 144ms/step - loss: 0.1588 - accuracy: 0.9471 - val_loss: 0.0778 - val_accuracy: 0.9688\n",
            "Epoch 136/250\n",
            "217/217 [==============================] - 31s 144ms/step - loss: 0.1418 - accuracy: 0.9513 - val_loss: 0.0503 - val_accuracy: 0.9819\n",
            "Epoch 137/250\n",
            "217/217 [==============================] - 31s 144ms/step - loss: 0.1212 - accuracy: 0.9585 - val_loss: 0.0601 - val_accuracy: 0.9782\n",
            "Epoch 138/250\n",
            "217/217 [==============================] - 31s 143ms/step - loss: 0.1343 - accuracy: 0.9561 - val_loss: 0.0885 - val_accuracy: 0.9719\n",
            "Epoch 139/250\n",
            "217/217 [==============================] - 31s 142ms/step - loss: 0.1764 - accuracy: 0.9407 - val_loss: 0.0644 - val_accuracy: 0.9744\n",
            "Epoch 140/250\n",
            "217/217 [==============================] - 31s 142ms/step - loss: 0.1682 - accuracy: 0.9435 - val_loss: 0.0614 - val_accuracy: 0.9794\n",
            "Epoch 141/250\n",
            "217/217 [==============================] - 31s 142ms/step - loss: 0.1082 - accuracy: 0.9633 - val_loss: 0.0513 - val_accuracy: 0.9832\n",
            "Epoch 142/250\n",
            "217/217 [==============================] - 31s 142ms/step - loss: 0.1324 - accuracy: 0.9539 - val_loss: 0.0927 - val_accuracy: 0.9676\n",
            "Epoch 143/250\n",
            "217/217 [==============================] - 31s 142ms/step - loss: 0.1457 - accuracy: 0.9497 - val_loss: 0.0853 - val_accuracy: 0.9676\n",
            "Epoch 144/250\n",
            "217/217 [==============================] - 31s 142ms/step - loss: 0.1416 - accuracy: 0.9496 - val_loss: 0.0894 - val_accuracy: 0.9651\n",
            "Epoch 145/250\n",
            "217/217 [==============================] - 31s 143ms/step - loss: 0.1353 - accuracy: 0.9559 - val_loss: 0.1140 - val_accuracy: 0.9545\n",
            "Epoch 146/250\n",
            "217/217 [==============================] - 31s 142ms/step - loss: 0.1244 - accuracy: 0.9572 - val_loss: 0.0607 - val_accuracy: 0.9744\n",
            "Epoch 147/250\n",
            "217/217 [==============================] - 31s 142ms/step - loss: 0.1496 - accuracy: 0.9519 - val_loss: 0.0720 - val_accuracy: 0.9695\n",
            "Epoch 148/250\n",
            "217/217 [==============================] - 31s 142ms/step - loss: 0.1181 - accuracy: 0.9566 - val_loss: 0.0712 - val_accuracy: 0.9682\n",
            "Epoch 149/250\n",
            "217/217 [==============================] - 31s 142ms/step - loss: 0.1352 - accuracy: 0.9556 - val_loss: 0.2117 - val_accuracy: 0.9277\n",
            "Epoch 150/250\n",
            "217/217 [==============================] - 31s 142ms/step - loss: 0.1360 - accuracy: 0.9542 - val_loss: 0.0912 - val_accuracy: 0.9663\n",
            "Epoch 151/250\n",
            "217/217 [==============================] - 31s 142ms/step - loss: 0.1508 - accuracy: 0.9487 - val_loss: 0.0660 - val_accuracy: 0.9807\n",
            "Epoch 152/250\n",
            "217/217 [==============================] - 31s 141ms/step - loss: 0.1241 - accuracy: 0.9583 - val_loss: 0.0507 - val_accuracy: 0.9832\n",
            "Epoch 153/250\n",
            "217/217 [==============================] - 31s 142ms/step - loss: 0.1237 - accuracy: 0.9587 - val_loss: 0.0844 - val_accuracy: 0.9651\n",
            "Epoch 154/250\n",
            "217/217 [==============================] - 31s 142ms/step - loss: 0.1297 - accuracy: 0.9565 - val_loss: 0.0764 - val_accuracy: 0.9688\n",
            "Epoch 155/250\n",
            "217/217 [==============================] - 31s 142ms/step - loss: 0.1371 - accuracy: 0.9552 - val_loss: 0.1189 - val_accuracy: 0.9638\n",
            "Epoch 156/250\n",
            "217/217 [==============================] - 31s 142ms/step - loss: 0.1434 - accuracy: 0.9516 - val_loss: 0.0614 - val_accuracy: 0.9769\n",
            "Epoch 157/250\n",
            "217/217 [==============================] - 31s 142ms/step - loss: 0.1555 - accuracy: 0.9526 - val_loss: 0.0776 - val_accuracy: 0.9732\n",
            "Epoch 158/250\n",
            "217/217 [==============================] - 31s 142ms/step - loss: 0.1484 - accuracy: 0.9509 - val_loss: 0.0991 - val_accuracy: 0.9582\n",
            "Epoch 159/250\n",
            "217/217 [==============================] - 31s 142ms/step - loss: 0.1262 - accuracy: 0.9562 - val_loss: 0.0921 - val_accuracy: 0.9620\n",
            "Epoch 160/250\n",
            "217/217 [==============================] - 31s 141ms/step - loss: 0.1320 - accuracy: 0.9578 - val_loss: 0.0976 - val_accuracy: 0.9695\n",
            "Epoch 161/250\n",
            "217/217 [==============================] - 31s 142ms/step - loss: 0.1386 - accuracy: 0.9537 - val_loss: 0.0784 - val_accuracy: 0.9757\n",
            "Epoch 162/250\n",
            "217/217 [==============================] - 31s 142ms/step - loss: 0.1323 - accuracy: 0.9553 - val_loss: 0.0727 - val_accuracy: 0.9744\n",
            "Epoch 163/250\n",
            "217/217 [==============================] - 31s 142ms/step - loss: 0.1308 - accuracy: 0.9564 - val_loss: 0.0578 - val_accuracy: 0.9819\n",
            "Epoch 164/250\n",
            "217/217 [==============================] - 31s 141ms/step - loss: 0.1227 - accuracy: 0.9598 - val_loss: 0.0493 - val_accuracy: 0.9807\n",
            "Epoch 165/250\n",
            "217/217 [==============================] - 31s 142ms/step - loss: 0.1011 - accuracy: 0.9666 - val_loss: 0.0509 - val_accuracy: 0.9813\n",
            "Epoch 166/250\n",
            "217/217 [==============================] - 31s 143ms/step - loss: 0.1298 - accuracy: 0.9582 - val_loss: 0.3030 - val_accuracy: 0.9165\n",
            "Epoch 167/250\n",
            "217/217 [==============================] - 31s 142ms/step - loss: 0.1703 - accuracy: 0.9500 - val_loss: 0.0380 - val_accuracy: 0.9857\n",
            "Epoch 168/250\n",
            "217/217 [==============================] - 31s 142ms/step - loss: 0.0962 - accuracy: 0.9664 - val_loss: 0.0820 - val_accuracy: 0.9701\n",
            "Epoch 169/250\n",
            "217/217 [==============================] - 31s 142ms/step - loss: 0.1224 - accuracy: 0.9597 - val_loss: 0.1297 - val_accuracy: 0.9545\n",
            "Epoch 170/250\n",
            "217/217 [==============================] - 31s 141ms/step - loss: 0.1330 - accuracy: 0.9568 - val_loss: 0.0364 - val_accuracy: 0.9857\n",
            "Epoch 171/250\n",
            "217/217 [==============================] - 31s 142ms/step - loss: 0.1176 - accuracy: 0.9599 - val_loss: 0.0450 - val_accuracy: 0.9857\n",
            "Epoch 172/250\n",
            "217/217 [==============================] - 31s 142ms/step - loss: 0.1408 - accuracy: 0.9569 - val_loss: 0.0884 - val_accuracy: 0.9776\n",
            "Epoch 173/250\n",
            "217/217 [==============================] - 31s 141ms/step - loss: 0.1458 - accuracy: 0.9542 - val_loss: 0.1403 - val_accuracy: 0.9589\n",
            "Epoch 174/250\n",
            "217/217 [==============================] - 31s 142ms/step - loss: 0.1346 - accuracy: 0.9577 - val_loss: 0.0540 - val_accuracy: 0.9800\n",
            "Epoch 175/250\n",
            "217/217 [==============================] - 31s 141ms/step - loss: 0.1391 - accuracy: 0.9568 - val_loss: 0.0459 - val_accuracy: 0.9838\n",
            "Epoch 176/250\n",
            "217/217 [==============================] - 31s 142ms/step - loss: 0.1260 - accuracy: 0.9588 - val_loss: 0.0707 - val_accuracy: 0.9732\n",
            "Epoch 177/250\n",
            "217/217 [==============================] - 31s 142ms/step - loss: 0.1232 - accuracy: 0.9595 - val_loss: 0.0346 - val_accuracy: 0.9888\n",
            "Epoch 178/250\n",
            "217/217 [==============================] - 31s 141ms/step - loss: 0.1379 - accuracy: 0.9565 - val_loss: 0.0674 - val_accuracy: 0.9769\n",
            "Epoch 179/250\n",
            "217/217 [==============================] - 31s 142ms/step - loss: 0.1020 - accuracy: 0.9648 - val_loss: 0.0555 - val_accuracy: 0.9800\n",
            "Epoch 180/250\n",
            "217/217 [==============================] - 31s 141ms/step - loss: 0.1229 - accuracy: 0.9604 - val_loss: 0.0844 - val_accuracy: 0.9626\n",
            "Epoch 181/250\n",
            "217/217 [==============================] - 31s 142ms/step - loss: 0.1184 - accuracy: 0.9654 - val_loss: 0.0488 - val_accuracy: 0.9832\n",
            "Epoch 182/250\n",
            "217/217 [==============================] - 31s 141ms/step - loss: 0.1306 - accuracy: 0.9608 - val_loss: 0.1067 - val_accuracy: 0.9613\n",
            "Epoch 183/250\n",
            "217/217 [==============================] - 31s 141ms/step - loss: 0.1091 - accuracy: 0.9635 - val_loss: 0.1044 - val_accuracy: 0.9638\n",
            "Epoch 184/250\n",
            "217/217 [==============================] - 31s 142ms/step - loss: 0.1103 - accuracy: 0.9664 - val_loss: 0.0583 - val_accuracy: 0.9769\n",
            "Epoch 185/250\n",
            "217/217 [==============================] - 31s 142ms/step - loss: 0.1295 - accuracy: 0.9599 - val_loss: 0.1002 - val_accuracy: 0.9657\n",
            "Epoch 186/250\n",
            "217/217 [==============================] - 31s 142ms/step - loss: 0.1649 - accuracy: 0.9483 - val_loss: 0.0564 - val_accuracy: 0.9844\n",
            "Epoch 187/250\n",
            "217/217 [==============================] - 31s 142ms/step - loss: 0.1432 - accuracy: 0.9598 - val_loss: 0.0842 - val_accuracy: 0.9751\n",
            "Epoch 188/250\n",
            "217/217 [==============================] - 31s 141ms/step - loss: 0.0804 - accuracy: 0.9722 - val_loss: 0.0615 - val_accuracy: 0.9832\n",
            "Epoch 189/250\n",
            "217/217 [==============================] - 31s 142ms/step - loss: 0.0794 - accuracy: 0.9720 - val_loss: 0.0757 - val_accuracy: 0.9726\n",
            "Epoch 190/250\n",
            "217/217 [==============================] - 31s 142ms/step - loss: 0.0971 - accuracy: 0.9687 - val_loss: 0.0577 - val_accuracy: 0.9813\n",
            "Epoch 191/250\n",
            "217/217 [==============================] - 31s 142ms/step - loss: 0.1192 - accuracy: 0.9599 - val_loss: 0.0716 - val_accuracy: 0.9819\n",
            "Epoch 192/250\n",
            "217/217 [==============================] - 31s 142ms/step - loss: 0.1679 - accuracy: 0.9507 - val_loss: 0.0518 - val_accuracy: 0.9838\n",
            "Epoch 193/250\n",
            "217/217 [==============================] - 31s 142ms/step - loss: 0.1668 - accuracy: 0.9520 - val_loss: 0.0816 - val_accuracy: 0.9682\n",
            "Epoch 194/250\n",
            "217/217 [==============================] - 31s 142ms/step - loss: 0.1213 - accuracy: 0.9599 - val_loss: 0.0615 - val_accuracy: 0.9738\n",
            "Epoch 195/250\n",
            "217/217 [==============================] - 31s 142ms/step - loss: 0.1400 - accuracy: 0.9585 - val_loss: 0.0656 - val_accuracy: 0.9788\n",
            "Epoch 196/250\n",
            "217/217 [==============================] - 31s 143ms/step - loss: 0.0900 - accuracy: 0.9693 - val_loss: 0.0285 - val_accuracy: 0.9894\n",
            "Epoch 197/250\n",
            "217/217 [==============================] - 31s 142ms/step - loss: 0.1060 - accuracy: 0.9650 - val_loss: 0.0421 - val_accuracy: 0.9838\n",
            "Epoch 198/250\n",
            "217/217 [==============================] - 31s 142ms/step - loss: 0.1132 - accuracy: 0.9650 - val_loss: 0.0760 - val_accuracy: 0.9776\n",
            "Epoch 199/250\n",
            "217/217 [==============================] - 31s 141ms/step - loss: 0.1230 - accuracy: 0.9618 - val_loss: 0.0341 - val_accuracy: 0.9882\n",
            "Epoch 200/250\n",
            "217/217 [==============================] - 31s 142ms/step - loss: 0.1483 - accuracy: 0.9587 - val_loss: 0.1033 - val_accuracy: 0.9638\n",
            "Epoch 201/250\n",
            "217/217 [==============================] - 31s 141ms/step - loss: 0.1538 - accuracy: 0.9550 - val_loss: 0.0528 - val_accuracy: 0.9794\n",
            "Epoch 202/250\n",
            "217/217 [==============================] - 31s 142ms/step - loss: 0.1098 - accuracy: 0.9646 - val_loss: 0.0327 - val_accuracy: 0.9888\n",
            "Epoch 203/250\n",
            "217/217 [==============================] - 31s 141ms/step - loss: 0.1101 - accuracy: 0.9650 - val_loss: 0.0266 - val_accuracy: 0.9900\n",
            "Epoch 204/250\n",
            "217/217 [==============================] - 31s 141ms/step - loss: 0.0865 - accuracy: 0.9720 - val_loss: 0.0257 - val_accuracy: 0.9919\n",
            "Epoch 205/250\n",
            "217/217 [==============================] - 31s 143ms/step - loss: 0.1729 - accuracy: 0.9517 - val_loss: 0.0685 - val_accuracy: 0.9719\n",
            "Epoch 206/250\n",
            "217/217 [==============================] - 31s 144ms/step - loss: 0.1506 - accuracy: 0.9562 - val_loss: 0.0858 - val_accuracy: 0.9732\n",
            "Epoch 207/250\n",
            "217/217 [==============================] - 31s 142ms/step - loss: 0.1380 - accuracy: 0.9585 - val_loss: 0.0794 - val_accuracy: 0.9757\n",
            "Epoch 208/250\n",
            "217/217 [==============================] - 31s 143ms/step - loss: 0.1044 - accuracy: 0.9662 - val_loss: 0.0956 - val_accuracy: 0.9651\n",
            "Epoch 209/250\n",
            "217/217 [==============================] - 31s 142ms/step - loss: 0.1205 - accuracy: 0.9634 - val_loss: 0.1326 - val_accuracy: 0.9514\n",
            "Epoch 210/250\n",
            "217/217 [==============================] - 31s 142ms/step - loss: 0.1491 - accuracy: 0.9535 - val_loss: 0.0859 - val_accuracy: 0.9738\n",
            "Epoch 211/250\n",
            "217/217 [==============================] - 31s 142ms/step - loss: 0.0977 - accuracy: 0.9673 - val_loss: 0.0377 - val_accuracy: 0.9857\n",
            "Epoch 212/250\n",
            "217/217 [==============================] - 31s 142ms/step - loss: 0.1181 - accuracy: 0.9647 - val_loss: 0.0920 - val_accuracy: 0.9688\n",
            "Epoch 213/250\n",
            "217/217 [==============================] - 31s 142ms/step - loss: 0.1336 - accuracy: 0.9585 - val_loss: 0.0597 - val_accuracy: 0.9819\n",
            "Epoch 214/250\n",
            "217/217 [==============================] - 31s 143ms/step - loss: 0.1292 - accuracy: 0.9625 - val_loss: 0.0941 - val_accuracy: 0.9707\n",
            "Epoch 215/250\n",
            "217/217 [==============================] - 31s 143ms/step - loss: 0.1071 - accuracy: 0.9679 - val_loss: 0.0368 - val_accuracy: 0.9882\n",
            "Epoch 216/250\n",
            "217/217 [==============================] - 31s 143ms/step - loss: 0.0862 - accuracy: 0.9746 - val_loss: 0.0772 - val_accuracy: 0.9713\n",
            "Epoch 217/250\n",
            "217/217 [==============================] - 31s 142ms/step - loss: 0.1237 - accuracy: 0.9630 - val_loss: 0.0488 - val_accuracy: 0.9850\n",
            "Epoch 218/250\n",
            "217/217 [==============================] - 31s 142ms/step - loss: 0.1922 - accuracy: 0.9457 - val_loss: 0.0938 - val_accuracy: 0.9738\n",
            "Epoch 219/250\n",
            "217/217 [==============================] - 31s 142ms/step - loss: 0.1033 - accuracy: 0.9677 - val_loss: 0.0387 - val_accuracy: 0.9906\n",
            "Epoch 220/250\n",
            "217/217 [==============================] - 32s 146ms/step - loss: 0.1179 - accuracy: 0.9640 - val_loss: 0.0447 - val_accuracy: 0.9850\n",
            "Epoch 221/250\n",
            "217/217 [==============================] - 32s 146ms/step - loss: 0.1230 - accuracy: 0.9627 - val_loss: 0.0437 - val_accuracy: 0.9844\n",
            "Epoch 222/250\n",
            "217/217 [==============================] - 32s 145ms/step - loss: 0.0937 - accuracy: 0.9695 - val_loss: 0.0228 - val_accuracy: 0.9900\n",
            "Epoch 223/250\n",
            "217/217 [==============================] - 32s 146ms/step - loss: 0.1409 - accuracy: 0.9598 - val_loss: 0.0506 - val_accuracy: 0.9832\n",
            "Epoch 224/250\n",
            "217/217 [==============================] - 32s 146ms/step - loss: 0.0976 - accuracy: 0.9692 - val_loss: 0.0565 - val_accuracy: 0.9844\n",
            "Epoch 225/250\n",
            "217/217 [==============================] - 32s 146ms/step - loss: 0.1000 - accuracy: 0.9670 - val_loss: 0.0655 - val_accuracy: 0.9838\n",
            "Epoch 226/250\n",
            "217/217 [==============================] - 32s 146ms/step - loss: 0.0887 - accuracy: 0.9722 - val_loss: 0.0299 - val_accuracy: 0.9875\n",
            "Epoch 227/250\n",
            "217/217 [==============================] - 31s 145ms/step - loss: 0.1216 - accuracy: 0.9647 - val_loss: 0.0922 - val_accuracy: 0.9707\n",
            "Epoch 228/250\n",
            "217/217 [==============================] - 32s 145ms/step - loss: 0.0855 - accuracy: 0.9723 - val_loss: 0.0298 - val_accuracy: 0.9919\n",
            "Epoch 229/250\n",
            "217/217 [==============================] - 31s 145ms/step - loss: 0.0914 - accuracy: 0.9723 - val_loss: 0.0367 - val_accuracy: 0.9894\n",
            "Epoch 230/250\n",
            "217/217 [==============================] - 31s 145ms/step - loss: 0.1003 - accuracy: 0.9680 - val_loss: 0.0668 - val_accuracy: 0.9751\n",
            "Epoch 231/250\n",
            "217/217 [==============================] - 31s 145ms/step - loss: 0.1331 - accuracy: 0.9661 - val_loss: 0.0573 - val_accuracy: 0.9794\n",
            "Epoch 232/250\n",
            "217/217 [==============================] - 31s 144ms/step - loss: 0.0865 - accuracy: 0.9729 - val_loss: 0.0776 - val_accuracy: 0.9788\n",
            "Epoch 233/250\n",
            "217/217 [==============================] - 31s 144ms/step - loss: 0.1046 - accuracy: 0.9706 - val_loss: 0.0255 - val_accuracy: 0.9913\n",
            "Epoch 234/250\n",
            "217/217 [==============================] - 31s 144ms/step - loss: 0.0890 - accuracy: 0.9741 - val_loss: 0.0420 - val_accuracy: 0.9844\n",
            "Epoch 235/250\n",
            "217/217 [==============================] - 31s 144ms/step - loss: 0.0822 - accuracy: 0.9745 - val_loss: 0.0340 - val_accuracy: 0.9882\n",
            "Epoch 236/250\n",
            "217/217 [==============================] - 31s 144ms/step - loss: 0.0833 - accuracy: 0.9745 - val_loss: 0.0232 - val_accuracy: 0.9938\n",
            "Epoch 237/250\n",
            "217/217 [==============================] - 31s 143ms/step - loss: 0.0652 - accuracy: 0.9780 - val_loss: 0.0959 - val_accuracy: 0.9776\n",
            "Epoch 238/250\n",
            "217/217 [==============================] - 31s 143ms/step - loss: 0.1570 - accuracy: 0.9608 - val_loss: 0.0374 - val_accuracy: 0.9844\n",
            "Epoch 239/250\n",
            "217/217 [==============================] - 31s 143ms/step - loss: 0.1294 - accuracy: 0.9667 - val_loss: 0.0848 - val_accuracy: 0.9744\n",
            "Epoch 240/250\n",
            "217/217 [==============================] - 31s 143ms/step - loss: 0.0943 - accuracy: 0.9709 - val_loss: 0.0328 - val_accuracy: 0.9882\n",
            "Epoch 241/250\n",
            "217/217 [==============================] - 31s 143ms/step - loss: 0.1308 - accuracy: 0.9653 - val_loss: 0.0612 - val_accuracy: 0.9782\n",
            "Epoch 242/250\n",
            "217/217 [==============================] - 31s 142ms/step - loss: 0.0946 - accuracy: 0.9710 - val_loss: 0.0234 - val_accuracy: 0.9913\n",
            "Epoch 243/250\n",
            "217/217 [==============================] - 31s 142ms/step - loss: 0.1004 - accuracy: 0.9707 - val_loss: 0.0415 - val_accuracy: 0.9850\n",
            "Epoch 244/250\n",
            "217/217 [==============================] - 31s 142ms/step - loss: 0.0924 - accuracy: 0.9723 - val_loss: 0.0495 - val_accuracy: 0.9807\n",
            "Epoch 245/250\n",
            "217/217 [==============================] - 31s 142ms/step - loss: 0.0881 - accuracy: 0.9745 - val_loss: 0.0329 - val_accuracy: 0.9900\n",
            "Epoch 246/250\n",
            "217/217 [==============================] - 31s 143ms/step - loss: 0.1230 - accuracy: 0.9647 - val_loss: 0.0506 - val_accuracy: 0.9850\n",
            "Epoch 247/250\n",
            "217/217 [==============================] - 31s 142ms/step - loss: 0.0974 - accuracy: 0.9700 - val_loss: 0.1007 - val_accuracy: 0.9626\n",
            "Epoch 248/250\n",
            "217/217 [==============================] - 31s 141ms/step - loss: 0.1055 - accuracy: 0.9690 - val_loss: 0.0349 - val_accuracy: 0.9863\n",
            "Epoch 249/250\n",
            "217/217 [==============================] - 31s 142ms/step - loss: 0.1102 - accuracy: 0.9677 - val_loss: 0.0369 - val_accuracy: 0.9875\n",
            "Epoch 250/250\n",
            "217/217 [==============================] - 31s 142ms/step - loss: 0.1159 - accuracy: 0.9673 - val_loss: 0.0436 - val_accuracy: 0.9900\n"
          ],
          "name": "stdout"
        },
        {
          "output_type": "execute_result",
          "data": {
            "text/plain": [
              "<keras.callbacks.callbacks.History at 0x7f470293e978>"
            ]
          },
          "metadata": {
            "tags": []
          },
          "execution_count": 16
        }
      ]
    },
    {
      "cell_type": "code",
      "metadata": {
        "id": "1l6VoePhhehj",
        "colab": {
          "base_uri": "https://localhost:8080/",
          "height": 1000
        },
        "outputId": "eddbdc08-4a35-42fd-da23-bb954dfcde42"
      },
      "source": [
        "model.fit(x_train, y_train, epochs=200,validation_split=0.23, batch_size=32)"
      ],
      "execution_count": null,
      "outputs": [
        {
          "output_type": "stream",
          "text": [
            "Train on 5368 samples, validate on 1604 samples\n",
            "Epoch 1/200\n",
            "5368/5368 [==============================] - 22s 4ms/step - loss: 3.1923 - accuracy: 0.3433 - val_loss: 1.8233 - val_accuracy: 0.4108\n",
            "Epoch 2/200\n",
            "5368/5368 [==============================] - 21s 4ms/step - loss: 1.2966 - accuracy: 0.4322 - val_loss: 1.8064 - val_accuracy: 0.4108\n",
            "Epoch 3/200\n",
            "5368/5368 [==============================] - 21s 4ms/step - loss: 1.2657 - accuracy: 0.4382 - val_loss: 1.2931 - val_accuracy: 0.4426\n",
            "Epoch 4/200\n",
            "5368/5368 [==============================] - 21s 4ms/step - loss: 1.2328 - accuracy: 0.4698 - val_loss: 1.6237 - val_accuracy: 0.3678\n",
            "Epoch 5/200\n",
            "5368/5368 [==============================] - 21s 4ms/step - loss: 1.2539 - accuracy: 0.4637 - val_loss: 1.1141 - val_accuracy: 0.4283\n",
            "Epoch 6/200\n",
            "5368/5368 [==============================] - 21s 4ms/step - loss: 1.1681 - accuracy: 0.4877 - val_loss: 1.0199 - val_accuracy: 0.5586\n",
            "Epoch 7/200\n",
            "5368/5368 [==============================] - 21s 4ms/step - loss: 1.1695 - accuracy: 0.4883 - val_loss: 1.3079 - val_accuracy: 0.4040\n",
            "Epoch 8/200\n",
            "5368/5368 [==============================] - 21s 4ms/step - loss: 1.1455 - accuracy: 0.5143 - val_loss: 1.0693 - val_accuracy: 0.5455\n",
            "Epoch 9/200\n",
            "5368/5368 [==============================] - 21s 4ms/step - loss: 1.1094 - accuracy: 0.5203 - val_loss: 1.0216 - val_accuracy: 0.5505\n",
            "Epoch 10/200\n",
            "5368/5368 [==============================] - 21s 4ms/step - loss: 1.0645 - accuracy: 0.5369 - val_loss: 1.1888 - val_accuracy: 0.5256\n",
            "Epoch 11/200\n",
            "5368/5368 [==============================] - 21s 4ms/step - loss: 1.0834 - accuracy: 0.5306 - val_loss: 1.2547 - val_accuracy: 0.4800\n",
            "Epoch 12/200\n",
            "5368/5368 [==============================] - 21s 4ms/step - loss: 1.0613 - accuracy: 0.5365 - val_loss: 1.0595 - val_accuracy: 0.5037\n",
            "Epoch 13/200\n",
            "5368/5368 [==============================] - 21s 4ms/step - loss: 1.0314 - accuracy: 0.5624 - val_loss: 1.2623 - val_accuracy: 0.5511\n",
            "Epoch 14/200\n",
            "5368/5368 [==============================] - 21s 4ms/step - loss: 1.0263 - accuracy: 0.5600 - val_loss: 2.2751 - val_accuracy: 0.4277\n",
            "Epoch 15/200\n",
            "5368/5368 [==============================] - 21s 4ms/step - loss: 0.9792 - accuracy: 0.5771 - val_loss: 1.2018 - val_accuracy: 0.5505\n",
            "Epoch 16/200\n",
            "5368/5368 [==============================] - 21s 4ms/step - loss: 0.9889 - accuracy: 0.5823 - val_loss: 0.7937 - val_accuracy: 0.6633\n",
            "Epoch 17/200\n",
            "5368/5368 [==============================] - 21s 4ms/step - loss: 1.0116 - accuracy: 0.5769 - val_loss: 0.9967 - val_accuracy: 0.6047\n",
            "Epoch 18/200\n",
            "5368/5368 [==============================] - 21s 4ms/step - loss: 0.9581 - accuracy: 0.5987 - val_loss: 0.8053 - val_accuracy: 0.6434\n",
            "Epoch 19/200\n",
            "5368/5368 [==============================] - 21s 4ms/step - loss: 0.9128 - accuracy: 0.6144 - val_loss: 0.7703 - val_accuracy: 0.6708\n",
            "Epoch 20/200\n",
            "5368/5368 [==============================] - 21s 4ms/step - loss: 0.8966 - accuracy: 0.6254 - val_loss: 1.6675 - val_accuracy: 0.4832\n",
            "Epoch 21/200\n",
            "5368/5368 [==============================] - 21s 4ms/step - loss: 0.9047 - accuracy: 0.6302 - val_loss: 0.9558 - val_accuracy: 0.5960\n",
            "Epoch 22/200\n",
            "5368/5368 [==============================] - 21s 4ms/step - loss: 0.8284 - accuracy: 0.6479 - val_loss: 1.0417 - val_accuracy: 0.5661\n",
            "Epoch 23/200\n",
            "5368/5368 [==============================] - 21s 4ms/step - loss: 0.8995 - accuracy: 0.6440 - val_loss: 0.8296 - val_accuracy: 0.6627\n",
            "Epoch 24/200\n",
            "5368/5368 [==============================] - 21s 4ms/step - loss: 0.8434 - accuracy: 0.6485 - val_loss: 1.5604 - val_accuracy: 0.5212\n",
            "Epoch 25/200\n",
            "5368/5368 [==============================] - 21s 4ms/step - loss: 0.8126 - accuracy: 0.6649 - val_loss: 1.0221 - val_accuracy: 0.5748\n",
            "Epoch 26/200\n",
            "5368/5368 [==============================] - 21s 4ms/step - loss: 0.7841 - accuracy: 0.6697 - val_loss: 0.8462 - val_accuracy: 0.6534\n",
            "Epoch 27/200\n",
            "5368/5368 [==============================] - 21s 4ms/step - loss: 0.7852 - accuracy: 0.6792 - val_loss: 0.9020 - val_accuracy: 0.6540\n",
            "Epoch 28/200\n",
            "5368/5368 [==============================] - 21s 4ms/step - loss: 0.7757 - accuracy: 0.6848 - val_loss: 1.1389 - val_accuracy: 0.5156\n",
            "Epoch 29/200\n",
            "5368/5368 [==============================] - 21s 4ms/step - loss: 0.7445 - accuracy: 0.6937 - val_loss: 0.8764 - val_accuracy: 0.6259\n",
            "Epoch 30/200\n",
            "5368/5368 [==============================] - 21s 4ms/step - loss: 0.7333 - accuracy: 0.7003 - val_loss: 1.1510 - val_accuracy: 0.5580\n",
            "Epoch 31/200\n",
            "5368/5368 [==============================] - 21s 4ms/step - loss: 0.7343 - accuracy: 0.7060 - val_loss: 0.8053 - val_accuracy: 0.6509\n",
            "Epoch 32/200\n",
            "5368/5368 [==============================] - 21s 4ms/step - loss: 0.6919 - accuracy: 0.7224 - val_loss: 0.8056 - val_accuracy: 0.6640\n",
            "Epoch 33/200\n",
            "5368/5368 [==============================] - 21s 4ms/step - loss: 0.6906 - accuracy: 0.7267 - val_loss: 0.7754 - val_accuracy: 0.6764\n",
            "Epoch 34/200\n",
            "5368/5368 [==============================] - 21s 4ms/step - loss: 0.6905 - accuracy: 0.7312 - val_loss: 0.7955 - val_accuracy: 0.6577\n",
            "Epoch 35/200\n",
            "5368/5368 [==============================] - 21s 4ms/step - loss: 0.6834 - accuracy: 0.7237 - val_loss: 0.9469 - val_accuracy: 0.6041\n",
            "Epoch 36/200\n",
            "5368/5368 [==============================] - 21s 4ms/step - loss: 0.6485 - accuracy: 0.7347 - val_loss: 1.4556 - val_accuracy: 0.5125\n",
            "Epoch 37/200\n",
            "5368/5368 [==============================] - 21s 4ms/step - loss: 0.6459 - accuracy: 0.7381 - val_loss: 0.9940 - val_accuracy: 0.6066\n",
            "Epoch 38/200\n",
            "5368/5368 [==============================] - 21s 4ms/step - loss: 0.6101 - accuracy: 0.7543 - val_loss: 1.1671 - val_accuracy: 0.5960\n",
            "Epoch 39/200\n",
            "5368/5368 [==============================] - 21s 4ms/step - loss: 0.6231 - accuracy: 0.7589 - val_loss: 0.9794 - val_accuracy: 0.5711\n",
            "Epoch 40/200\n",
            "5368/5368 [==============================] - 21s 4ms/step - loss: 0.6072 - accuracy: 0.7630 - val_loss: 0.7482 - val_accuracy: 0.6827\n",
            "Epoch 41/200\n",
            "5368/5368 [==============================] - 21s 4ms/step - loss: 0.5916 - accuracy: 0.7666 - val_loss: 0.9130 - val_accuracy: 0.6178\n",
            "Epoch 42/200\n",
            "5368/5368 [==============================] - 21s 4ms/step - loss: 0.5877 - accuracy: 0.7686 - val_loss: 1.5701 - val_accuracy: 0.4632\n",
            "Epoch 43/200\n",
            "5368/5368 [==============================] - 21s 4ms/step - loss: 0.6094 - accuracy: 0.7653 - val_loss: 0.9994 - val_accuracy: 0.6141\n",
            "Epoch 44/200\n",
            "5368/5368 [==============================] - 21s 4ms/step - loss: 0.5843 - accuracy: 0.7718 - val_loss: 1.1619 - val_accuracy: 0.5829\n",
            "Epoch 45/200\n",
            "5368/5368 [==============================] - 21s 4ms/step - loss: 0.5783 - accuracy: 0.7705 - val_loss: 1.3289 - val_accuracy: 0.5418\n",
            "Epoch 46/200\n",
            "5368/5368 [==============================] - 21s 4ms/step - loss: 0.5248 - accuracy: 0.7996 - val_loss: 0.7661 - val_accuracy: 0.7282\n",
            "Epoch 47/200\n",
            "5368/5368 [==============================] - 21s 4ms/step - loss: 0.5457 - accuracy: 0.7863 - val_loss: 0.8061 - val_accuracy: 0.6945\n",
            "Epoch 48/200\n",
            "5368/5368 [==============================] - 21s 4ms/step - loss: 0.5545 - accuracy: 0.7826 - val_loss: 1.1052 - val_accuracy: 0.6328\n",
            "Epoch 49/200\n",
            "5368/5368 [==============================] - 21s 4ms/step - loss: 0.5542 - accuracy: 0.7919 - val_loss: 0.7028 - val_accuracy: 0.7076\n",
            "Epoch 50/200\n",
            "5368/5368 [==============================] - 21s 4ms/step - loss: 0.5421 - accuracy: 0.7876 - val_loss: 0.8259 - val_accuracy: 0.6901\n",
            "Epoch 51/200\n",
            "5368/5368 [==============================] - 21s 4ms/step - loss: 0.5104 - accuracy: 0.7943 - val_loss: 0.9663 - val_accuracy: 0.6615\n",
            "Epoch 52/200\n",
            "5368/5368 [==============================] - 21s 4ms/step - loss: 0.4925 - accuracy: 0.8122 - val_loss: 1.1158 - val_accuracy: 0.6459\n",
            "Epoch 53/200\n",
            "5368/5368 [==============================] - 21s 4ms/step - loss: 0.5073 - accuracy: 0.8051 - val_loss: 1.3289 - val_accuracy: 0.5486\n",
            "Epoch 54/200\n",
            "5368/5368 [==============================] - 21s 4ms/step - loss: 0.4971 - accuracy: 0.7999 - val_loss: 1.0667 - val_accuracy: 0.5910\n",
            "Epoch 55/200\n",
            "5368/5368 [==============================] - 21s 4ms/step - loss: 0.4909 - accuracy: 0.8109 - val_loss: 1.2185 - val_accuracy: 0.5754\n",
            "Epoch 56/200\n",
            "5368/5368 [==============================] - 21s 4ms/step - loss: 0.4909 - accuracy: 0.8081 - val_loss: 1.1656 - val_accuracy: 0.6291\n",
            "Epoch 57/200\n",
            "5368/5368 [==============================] - 21s 4ms/step - loss: 0.4668 - accuracy: 0.8167 - val_loss: 0.9828 - val_accuracy: 0.6178\n",
            "Epoch 58/200\n",
            "5368/5368 [==============================] - 21s 4ms/step - loss: 0.4759 - accuracy: 0.8146 - val_loss: 1.0761 - val_accuracy: 0.6421\n",
            "Epoch 59/200\n",
            "5368/5368 [==============================] - 21s 4ms/step - loss: 0.4689 - accuracy: 0.8206 - val_loss: 1.3977 - val_accuracy: 0.5162\n",
            "Epoch 60/200\n",
            "5368/5368 [==============================] - 21s 4ms/step - loss: 0.4509 - accuracy: 0.8268 - val_loss: 0.6405 - val_accuracy: 0.7431\n",
            "Epoch 61/200\n",
            "5368/5368 [==============================] - 21s 4ms/step - loss: 0.4658 - accuracy: 0.8186 - val_loss: 1.2651 - val_accuracy: 0.5885\n",
            "Epoch 62/200\n",
            "5368/5368 [==============================] - 21s 4ms/step - loss: 0.4536 - accuracy: 0.8219 - val_loss: 0.9295 - val_accuracy: 0.6926\n",
            "Epoch 63/200\n",
            "5368/5368 [==============================] - 21s 4ms/step - loss: 0.4314 - accuracy: 0.8312 - val_loss: 1.2695 - val_accuracy: 0.6216\n",
            "Epoch 64/200\n",
            "5368/5368 [==============================] - 21s 4ms/step - loss: 0.4502 - accuracy: 0.8256 - val_loss: 0.8982 - val_accuracy: 0.6746\n",
            "Epoch 65/200\n",
            "5368/5368 [==============================] - 21s 4ms/step - loss: 0.4188 - accuracy: 0.8390 - val_loss: 0.7899 - val_accuracy: 0.6802\n",
            "Epoch 66/200\n",
            "5368/5368 [==============================] - 21s 4ms/step - loss: 0.4267 - accuracy: 0.8407 - val_loss: 0.8427 - val_accuracy: 0.6789\n",
            "Epoch 67/200\n",
            "5368/5368 [==============================] - 21s 4ms/step - loss: 0.4098 - accuracy: 0.8465 - val_loss: 1.0470 - val_accuracy: 0.6677\n",
            "Epoch 68/200\n",
            "5368/5368 [==============================] - 21s 4ms/step - loss: 0.4089 - accuracy: 0.8461 - val_loss: 0.8142 - val_accuracy: 0.6920\n",
            "Epoch 69/200\n",
            "5368/5368 [==============================] - 21s 4ms/step - loss: 0.3859 - accuracy: 0.8539 - val_loss: 0.6646 - val_accuracy: 0.7369\n",
            "Epoch 70/200\n",
            "5368/5368 [==============================] - 21s 4ms/step - loss: 0.3985 - accuracy: 0.8465 - val_loss: 1.0333 - val_accuracy: 0.6833\n",
            "Epoch 71/200\n",
            "5368/5368 [==============================] - 21s 4ms/step - loss: 0.3808 - accuracy: 0.8528 - val_loss: 1.5049 - val_accuracy: 0.5648\n",
            "Epoch 72/200\n",
            "5368/5368 [==============================] - 21s 4ms/step - loss: 0.3919 - accuracy: 0.8499 - val_loss: 1.8275 - val_accuracy: 0.5337\n",
            "Epoch 73/200\n",
            "5368/5368 [==============================] - 21s 4ms/step - loss: 0.3809 - accuracy: 0.8549 - val_loss: 1.7266 - val_accuracy: 0.4956\n",
            "Epoch 74/200\n",
            "5368/5368 [==============================] - 21s 4ms/step - loss: 0.3827 - accuracy: 0.8554 - val_loss: 0.7187 - val_accuracy: 0.7288\n",
            "Epoch 75/200\n",
            "5368/5368 [==============================] - 21s 4ms/step - loss: 0.3703 - accuracy: 0.8621 - val_loss: 1.1414 - val_accuracy: 0.6471\n",
            "Epoch 76/200\n",
            "5368/5368 [==============================] - 21s 4ms/step - loss: 0.3625 - accuracy: 0.8668 - val_loss: 0.7618 - val_accuracy: 0.7438\n",
            "Epoch 77/200\n",
            "5368/5368 [==============================] - 21s 4ms/step - loss: 0.3501 - accuracy: 0.8644 - val_loss: 0.7797 - val_accuracy: 0.7026\n",
            "Epoch 78/200\n",
            "5368/5368 [==============================] - 21s 4ms/step - loss: 0.3354 - accuracy: 0.8685 - val_loss: 1.0867 - val_accuracy: 0.6353\n",
            "Epoch 79/200\n",
            "5368/5368 [==============================] - 21s 4ms/step - loss: 0.3295 - accuracy: 0.8737 - val_loss: 1.3867 - val_accuracy: 0.5655\n",
            "Epoch 80/200\n",
            "5368/5368 [==============================] - 21s 4ms/step - loss: 0.3477 - accuracy: 0.8685 - val_loss: 1.4028 - val_accuracy: 0.6203\n",
            "Epoch 81/200\n",
            "5368/5368 [==============================] - 21s 4ms/step - loss: 0.3322 - accuracy: 0.8702 - val_loss: 0.7906 - val_accuracy: 0.7425\n",
            "Epoch 82/200\n",
            "5368/5368 [==============================] - 21s 4ms/step - loss: 0.3603 - accuracy: 0.8580 - val_loss: 1.9768 - val_accuracy: 0.5449\n",
            "Epoch 83/200\n",
            "5368/5368 [==============================] - 21s 4ms/step - loss: 0.3462 - accuracy: 0.8702 - val_loss: 0.6695 - val_accuracy: 0.7650\n",
            "Epoch 84/200\n",
            "5368/5368 [==============================] - 21s 4ms/step - loss: 0.3292 - accuracy: 0.8767 - val_loss: 1.0684 - val_accuracy: 0.6883\n",
            "Epoch 85/200\n",
            "5368/5368 [==============================] - 21s 4ms/step - loss: 0.3030 - accuracy: 0.8886 - val_loss: 1.3792 - val_accuracy: 0.6546\n",
            "Epoch 86/200\n",
            "5368/5368 [==============================] - 21s 4ms/step - loss: 0.3002 - accuracy: 0.8873 - val_loss: 1.3092 - val_accuracy: 0.6334\n",
            "Epoch 87/200\n",
            "5368/5368 [==============================] - 21s 4ms/step - loss: 0.3180 - accuracy: 0.8772 - val_loss: 1.9961 - val_accuracy: 0.5704\n",
            "Epoch 88/200\n",
            "5368/5368 [==============================] - 21s 4ms/step - loss: 0.3120 - accuracy: 0.8821 - val_loss: 1.4881 - val_accuracy: 0.6322\n",
            "Epoch 89/200\n",
            "5368/5368 [==============================] - 21s 4ms/step - loss: 0.3017 - accuracy: 0.8895 - val_loss: 1.5817 - val_accuracy: 0.6515\n",
            "Epoch 90/200\n",
            "5368/5368 [==============================] - 21s 4ms/step - loss: 0.3069 - accuracy: 0.8862 - val_loss: 0.9689 - val_accuracy: 0.7089\n",
            "Epoch 91/200\n",
            "5368/5368 [==============================] - 21s 4ms/step - loss: 0.2882 - accuracy: 0.8903 - val_loss: 2.4388 - val_accuracy: 0.5542\n",
            "Epoch 92/200\n",
            "5368/5368 [==============================] - 21s 4ms/step - loss: 0.2791 - accuracy: 0.8921 - val_loss: 1.2587 - val_accuracy: 0.6833\n",
            "Epoch 93/200\n",
            "5368/5368 [==============================] - 21s 4ms/step - loss: 0.3017 - accuracy: 0.8871 - val_loss: 1.3346 - val_accuracy: 0.6421\n",
            "Epoch 94/200\n",
            "5368/5368 [==============================] - 21s 4ms/step - loss: 0.2828 - accuracy: 0.8944 - val_loss: 1.4645 - val_accuracy: 0.6203\n",
            "Epoch 95/200\n",
            "5368/5368 [==============================] - 21s 4ms/step - loss: 0.2803 - accuracy: 0.8996 - val_loss: 0.8356 - val_accuracy: 0.6951\n",
            "Epoch 96/200\n",
            "5368/5368 [==============================] - 21s 4ms/step - loss: 0.2497 - accuracy: 0.9046 - val_loss: 2.1654 - val_accuracy: 0.5711\n",
            "Epoch 97/200\n",
            "5368/5368 [==============================] - 21s 4ms/step - loss: 0.2661 - accuracy: 0.9070 - val_loss: 1.9868 - val_accuracy: 0.5704\n",
            "Epoch 98/200\n",
            "5368/5368 [==============================] - 21s 4ms/step - loss: 0.2583 - accuracy: 0.9007 - val_loss: 1.3458 - val_accuracy: 0.6253\n",
            "Epoch 99/200\n",
            "5368/5368 [==============================] - 21s 4ms/step - loss: 0.2695 - accuracy: 0.9001 - val_loss: 1.1120 - val_accuracy: 0.6852\n",
            "Epoch 100/200\n",
            "5368/5368 [==============================] - 21s 4ms/step - loss: 0.2308 - accuracy: 0.9117 - val_loss: 1.5657 - val_accuracy: 0.6365\n",
            "Epoch 101/200\n",
            "5368/5368 [==============================] - 21s 4ms/step - loss: 0.2644 - accuracy: 0.9048 - val_loss: 1.0101 - val_accuracy: 0.6970\n",
            "Epoch 102/200\n",
            "5368/5368 [==============================] - 21s 4ms/step - loss: 0.2812 - accuracy: 0.8983 - val_loss: 1.1752 - val_accuracy: 0.6908\n",
            "Epoch 103/200\n",
            "5368/5368 [==============================] - 21s 4ms/step - loss: 0.2307 - accuracy: 0.9124 - val_loss: 2.1160 - val_accuracy: 0.5848\n",
            "Epoch 104/200\n",
            "5368/5368 [==============================] - 21s 4ms/step - loss: 0.2379 - accuracy: 0.9162 - val_loss: 0.9325 - val_accuracy: 0.7195\n",
            "Epoch 105/200\n",
            "5368/5368 [==============================] - 21s 4ms/step - loss: 0.2248 - accuracy: 0.9177 - val_loss: 0.8332 - val_accuracy: 0.7556\n",
            "Epoch 106/200\n",
            "5368/5368 [==============================] - 21s 4ms/step - loss: 0.2341 - accuracy: 0.9124 - val_loss: 1.6987 - val_accuracy: 0.6222\n",
            "Epoch 107/200\n",
            "5368/5368 [==============================] - 21s 4ms/step - loss: 0.2320 - accuracy: 0.9165 - val_loss: 1.2923 - val_accuracy: 0.6334\n",
            "Epoch 108/200\n",
            "5368/5368 [==============================] - 21s 4ms/step - loss: 0.2401 - accuracy: 0.9151 - val_loss: 1.2801 - val_accuracy: 0.7032\n",
            "Epoch 109/200\n",
            "5368/5368 [==============================] - 21s 4ms/step - loss: 0.2216 - accuracy: 0.9201 - val_loss: 1.1720 - val_accuracy: 0.6833\n",
            "Epoch 110/200\n",
            "5368/5368 [==============================] - 21s 4ms/step - loss: 0.2224 - accuracy: 0.9219 - val_loss: 1.2762 - val_accuracy: 0.6789\n",
            "Epoch 111/200\n",
            "5368/5368 [==============================] - 21s 4ms/step - loss: 0.2210 - accuracy: 0.9205 - val_loss: 0.8761 - val_accuracy: 0.7612\n",
            "Epoch 112/200\n",
            "5368/5368 [==============================] - 21s 4ms/step - loss: 0.2175 - accuracy: 0.9246 - val_loss: 0.8710 - val_accuracy: 0.7363\n",
            "Epoch 113/200\n",
            "5368/5368 [==============================] - 21s 4ms/step - loss: 0.2359 - accuracy: 0.9126 - val_loss: 1.2365 - val_accuracy: 0.6820\n",
            "Epoch 114/200\n",
            "5368/5368 [==============================] - 21s 4ms/step - loss: 0.1950 - accuracy: 0.9246 - val_loss: 1.8355 - val_accuracy: 0.6584\n",
            "Epoch 115/200\n",
            "5368/5368 [==============================] - 21s 4ms/step - loss: 0.2081 - accuracy: 0.9272 - val_loss: 1.7207 - val_accuracy: 0.6359\n",
            "Epoch 116/200\n",
            "5368/5368 [==============================] - 21s 4ms/step - loss: 0.2071 - accuracy: 0.9221 - val_loss: 0.8914 - val_accuracy: 0.7300\n",
            "Epoch 117/200\n",
            "5368/5368 [==============================] - 21s 4ms/step - loss: 0.1918 - accuracy: 0.9311 - val_loss: 1.8107 - val_accuracy: 0.6241\n",
            "Epoch 118/200\n",
            "5368/5368 [==============================] - 21s 4ms/step - loss: 0.1749 - accuracy: 0.9365 - val_loss: 1.3699 - val_accuracy: 0.6789\n",
            "Epoch 119/200\n",
            "5368/5368 [==============================] - 21s 4ms/step - loss: 0.1783 - accuracy: 0.9387 - val_loss: 1.0043 - val_accuracy: 0.7394\n",
            "Epoch 120/200\n",
            "5368/5368 [==============================] - 21s 4ms/step - loss: 0.1886 - accuracy: 0.9314 - val_loss: 0.9100 - val_accuracy: 0.7600\n",
            "Epoch 121/200\n",
            "5368/5368 [==============================] - 21s 4ms/step - loss: 0.1829 - accuracy: 0.9341 - val_loss: 1.1147 - val_accuracy: 0.7157\n",
            "Epoch 122/200\n",
            "5368/5368 [==============================] - 21s 4ms/step - loss: 0.1835 - accuracy: 0.9287 - val_loss: 1.5090 - val_accuracy: 0.6920\n",
            "Epoch 123/200\n",
            "5368/5368 [==============================] - 21s 4ms/step - loss: 0.1753 - accuracy: 0.9370 - val_loss: 1.0361 - val_accuracy: 0.7300\n",
            "Epoch 124/200\n",
            "5368/5368 [==============================] - 21s 4ms/step - loss: 0.1701 - accuracy: 0.9357 - val_loss: 1.4319 - val_accuracy: 0.6889\n",
            "Epoch 125/200\n",
            "5368/5368 [==============================] - 21s 4ms/step - loss: 0.1642 - accuracy: 0.9415 - val_loss: 0.9698 - val_accuracy: 0.7544\n",
            "Epoch 126/200\n",
            "5368/5368 [==============================] - 21s 4ms/step - loss: 0.1729 - accuracy: 0.9350 - val_loss: 1.4292 - val_accuracy: 0.6789\n",
            "Epoch 127/200\n",
            "5368/5368 [==============================] - 21s 4ms/step - loss: 0.1793 - accuracy: 0.9335 - val_loss: 1.1606 - val_accuracy: 0.7375\n",
            "Epoch 128/200\n",
            "5368/5368 [==============================] - 21s 4ms/step - loss: 0.1730 - accuracy: 0.9335 - val_loss: 1.4213 - val_accuracy: 0.7007\n",
            "Epoch 129/200\n",
            "5368/5368 [==============================] - 21s 4ms/step - loss: 0.1681 - accuracy: 0.9395 - val_loss: 0.8411 - val_accuracy: 0.7899\n",
            "Epoch 130/200\n",
            "5368/5368 [==============================] - 21s 4ms/step - loss: 0.1642 - accuracy: 0.9391 - val_loss: 1.1401 - val_accuracy: 0.7051\n",
            "Epoch 131/200\n",
            "5368/5368 [==============================] - 21s 4ms/step - loss: 0.1745 - accuracy: 0.9393 - val_loss: 1.3582 - val_accuracy: 0.7076\n",
            "Epoch 132/200\n",
            "5368/5368 [==============================] - 21s 4ms/step - loss: 0.1534 - accuracy: 0.9443 - val_loss: 1.2533 - val_accuracy: 0.7082\n",
            "Epoch 133/200\n",
            "5368/5368 [==============================] - 21s 4ms/step - loss: 0.1541 - accuracy: 0.9417 - val_loss: 1.5889 - val_accuracy: 0.7007\n",
            "Epoch 134/200\n",
            "5368/5368 [==============================] - 21s 4ms/step - loss: 0.1703 - accuracy: 0.9380 - val_loss: 0.8960 - val_accuracy: 0.7737\n",
            "Epoch 135/200\n",
            "5368/5368 [==============================] - 21s 4ms/step - loss: 0.1496 - accuracy: 0.9460 - val_loss: 1.0127 - val_accuracy: 0.7406\n",
            "Epoch 136/200\n",
            "5368/5368 [==============================] - 21s 4ms/step - loss: 0.1411 - accuracy: 0.9504 - val_loss: 1.7099 - val_accuracy: 0.6839\n",
            "Epoch 137/200\n",
            "5368/5368 [==============================] - 21s 4ms/step - loss: 0.1503 - accuracy: 0.9484 - val_loss: 1.5050 - val_accuracy: 0.6926\n",
            "Epoch 138/200\n",
            "5368/5368 [==============================] - 21s 4ms/step - loss: 0.1529 - accuracy: 0.9400 - val_loss: 1.7599 - val_accuracy: 0.6789\n",
            "Epoch 139/200\n",
            "5368/5368 [==============================] - 21s 4ms/step - loss: 0.1398 - accuracy: 0.9495 - val_loss: 1.4845 - val_accuracy: 0.6926\n",
            "Epoch 140/200\n",
            "5368/5368 [==============================] - 21s 4ms/step - loss: 0.1523 - accuracy: 0.9458 - val_loss: 0.9560 - val_accuracy: 0.7575\n",
            "Epoch 141/200\n",
            "5368/5368 [==============================] - 21s 4ms/step - loss: 0.1306 - accuracy: 0.9504 - val_loss: 1.4299 - val_accuracy: 0.7151\n",
            "Epoch 142/200\n",
            "5368/5368 [==============================] - 21s 4ms/step - loss: 0.1285 - accuracy: 0.9551 - val_loss: 0.9620 - val_accuracy: 0.7600\n",
            "Epoch 143/200\n",
            "5368/5368 [==============================] - 21s 4ms/step - loss: 0.1361 - accuracy: 0.9497 - val_loss: 0.9693 - val_accuracy: 0.7581\n",
            "Epoch 144/200\n",
            "5368/5368 [==============================] - 21s 4ms/step - loss: 0.1325 - accuracy: 0.9521 - val_loss: 1.6750 - val_accuracy: 0.7082\n",
            "Epoch 145/200\n",
            "5368/5368 [==============================] - 21s 4ms/step - loss: 0.1485 - accuracy: 0.9490 - val_loss: 1.2773 - val_accuracy: 0.7151\n",
            "Epoch 146/200\n",
            "5368/5368 [==============================] - 21s 4ms/step - loss: 0.1115 - accuracy: 0.9613 - val_loss: 1.5709 - val_accuracy: 0.6914\n",
            "Epoch 147/200\n",
            "5368/5368 [==============================] - 21s 4ms/step - loss: 0.1376 - accuracy: 0.9519 - val_loss: 1.4932 - val_accuracy: 0.7082\n",
            "Epoch 148/200\n",
            "5368/5368 [==============================] - 21s 4ms/step - loss: 0.1270 - accuracy: 0.9545 - val_loss: 1.2675 - val_accuracy: 0.7226\n",
            "Epoch 149/200\n",
            "5368/5368 [==============================] - 21s 4ms/step - loss: 0.1085 - accuracy: 0.9613 - val_loss: 1.8709 - val_accuracy: 0.6671\n",
            "Epoch 150/200\n",
            "5368/5368 [==============================] - 21s 4ms/step - loss: 0.1391 - accuracy: 0.9518 - val_loss: 1.6604 - val_accuracy: 0.7120\n",
            "Epoch 151/200\n",
            "5368/5368 [==============================] - 21s 4ms/step - loss: 0.1300 - accuracy: 0.9534 - val_loss: 1.1297 - val_accuracy: 0.7700\n",
            "Epoch 152/200\n",
            "5368/5368 [==============================] - 21s 4ms/step - loss: 0.1145 - accuracy: 0.9596 - val_loss: 1.2566 - val_accuracy: 0.7244\n",
            "Epoch 153/200\n",
            "5368/5368 [==============================] - 21s 4ms/step - loss: 0.1314 - accuracy: 0.9521 - val_loss: 1.0457 - val_accuracy: 0.7419\n",
            "Epoch 154/200\n",
            "5368/5368 [==============================] - 21s 4ms/step - loss: 0.1103 - accuracy: 0.9594 - val_loss: 1.9022 - val_accuracy: 0.6521\n",
            "Epoch 155/200\n",
            "5368/5368 [==============================] - 21s 4ms/step - loss: 0.1254 - accuracy: 0.9560 - val_loss: 1.4905 - val_accuracy: 0.6995\n",
            "Epoch 156/200\n",
            "5368/5368 [==============================] - 21s 4ms/step - loss: 0.1158 - accuracy: 0.9614 - val_loss: 1.3746 - val_accuracy: 0.7157\n",
            "Epoch 157/200\n",
            "5368/5368 [==============================] - 21s 4ms/step - loss: 0.1346 - accuracy: 0.9514 - val_loss: 1.0345 - val_accuracy: 0.7606\n",
            "Epoch 158/200\n",
            "5368/5368 [==============================] - 21s 4ms/step - loss: 0.1174 - accuracy: 0.9601 - val_loss: 0.7969 - val_accuracy: 0.7799\n",
            "Epoch 159/200\n",
            "5368/5368 [==============================] - 21s 4ms/step - loss: 0.1074 - accuracy: 0.9627 - val_loss: 1.0437 - val_accuracy: 0.7625\n",
            "Epoch 160/200\n",
            "5368/5368 [==============================] - 21s 4ms/step - loss: 0.1207 - accuracy: 0.9562 - val_loss: 1.6989 - val_accuracy: 0.7276\n",
            "Epoch 161/200\n",
            "5368/5368 [==============================] - 21s 4ms/step - loss: 0.1103 - accuracy: 0.9620 - val_loss: 1.2448 - val_accuracy: 0.7600\n",
            "Epoch 162/200\n",
            "5368/5368 [==============================] - 21s 4ms/step - loss: 0.1250 - accuracy: 0.9547 - val_loss: 1.1273 - val_accuracy: 0.7637\n",
            "Epoch 163/200\n",
            "5368/5368 [==============================] - 21s 4ms/step - loss: 0.1023 - accuracy: 0.9637 - val_loss: 1.3695 - val_accuracy: 0.7637\n",
            "Epoch 164/200\n",
            "5368/5368 [==============================] - 21s 4ms/step - loss: 0.1149 - accuracy: 0.9581 - val_loss: 1.4399 - val_accuracy: 0.7307\n",
            "Epoch 165/200\n",
            "5368/5368 [==============================] - 21s 4ms/step - loss: 0.1139 - accuracy: 0.9585 - val_loss: 0.9726 - val_accuracy: 0.7868\n",
            "Epoch 166/200\n",
            "5368/5368 [==============================] - 21s 4ms/step - loss: 0.1085 - accuracy: 0.9613 - val_loss: 1.1698 - val_accuracy: 0.7656\n",
            "Epoch 167/200\n",
            "5368/5368 [==============================] - 21s 4ms/step - loss: 0.1054 - accuracy: 0.9613 - val_loss: 1.1648 - val_accuracy: 0.7413\n",
            "Epoch 168/200\n",
            "5368/5368 [==============================] - 21s 4ms/step - loss: 0.1031 - accuracy: 0.9627 - val_loss: 1.2512 - val_accuracy: 0.7562\n",
            "Epoch 169/200\n",
            "5368/5368 [==============================] - 21s 4ms/step - loss: 0.1122 - accuracy: 0.9601 - val_loss: 1.7934 - val_accuracy: 0.6877\n",
            "Epoch 170/200\n",
            "5368/5368 [==============================] - 21s 4ms/step - loss: 0.0892 - accuracy: 0.9681 - val_loss: 1.5796 - val_accuracy: 0.7357\n",
            "Epoch 171/200\n",
            "5368/5368 [==============================] - 21s 4ms/step - loss: 0.0988 - accuracy: 0.9640 - val_loss: 1.0325 - val_accuracy: 0.7968\n",
            "Epoch 172/200\n",
            "5368/5368 [==============================] - 21s 4ms/step - loss: 0.1233 - accuracy: 0.9568 - val_loss: 1.1866 - val_accuracy: 0.7537\n",
            "Epoch 173/200\n",
            "5368/5368 [==============================] - 21s 4ms/step - loss: 0.1031 - accuracy: 0.9654 - val_loss: 1.5881 - val_accuracy: 0.7300\n",
            "Epoch 174/200\n",
            "5368/5368 [==============================] - 21s 4ms/step - loss: 0.1050 - accuracy: 0.9616 - val_loss: 1.1655 - val_accuracy: 0.7469\n",
            "Epoch 175/200\n",
            "5368/5368 [==============================] - 21s 4ms/step - loss: 0.1100 - accuracy: 0.9611 - val_loss: 0.9177 - val_accuracy: 0.7824\n",
            "Epoch 176/200\n",
            "5368/5368 [==============================] - 21s 4ms/step - loss: 0.1140 - accuracy: 0.9594 - val_loss: 1.2438 - val_accuracy: 0.7544\n",
            "Epoch 177/200\n",
            "5368/5368 [==============================] - 21s 4ms/step - loss: 0.0925 - accuracy: 0.9683 - val_loss: 1.0014 - val_accuracy: 0.7843\n",
            "Epoch 178/200\n",
            "5368/5368 [==============================] - 21s 4ms/step - loss: 0.1156 - accuracy: 0.9599 - val_loss: 1.3073 - val_accuracy: 0.7195\n",
            "Epoch 179/200\n",
            "5368/5368 [==============================] - 21s 4ms/step - loss: 0.1048 - accuracy: 0.9652 - val_loss: 2.6066 - val_accuracy: 0.6103\n",
            "Epoch 180/200\n",
            "5368/5368 [==============================] - 21s 4ms/step - loss: 0.1007 - accuracy: 0.9667 - val_loss: 1.3900 - val_accuracy: 0.7438\n",
            "Epoch 181/200\n",
            "5368/5368 [==============================] - 21s 4ms/step - loss: 0.0822 - accuracy: 0.9708 - val_loss: 1.5765 - val_accuracy: 0.7550\n",
            "Epoch 182/200\n",
            "5368/5368 [==============================] - 21s 4ms/step - loss: 0.0917 - accuracy: 0.9663 - val_loss: 1.4395 - val_accuracy: 0.7244\n",
            "Epoch 183/200\n",
            "5368/5368 [==============================] - 21s 4ms/step - loss: 0.1050 - accuracy: 0.9640 - val_loss: 0.9902 - val_accuracy: 0.7774\n",
            "Epoch 184/200\n",
            "5368/5368 [==============================] - 21s 4ms/step - loss: 0.0942 - accuracy: 0.9674 - val_loss: 1.2332 - val_accuracy: 0.7612\n",
            "Epoch 185/200\n",
            "5368/5368 [==============================] - 21s 4ms/step - loss: 0.0990 - accuracy: 0.9667 - val_loss: 1.1154 - val_accuracy: 0.7681\n",
            "Epoch 186/200\n",
            "5368/5368 [==============================] - 21s 4ms/step - loss: 0.0945 - accuracy: 0.9668 - val_loss: 1.2649 - val_accuracy: 0.7500\n",
            "Epoch 187/200\n",
            "5368/5368 [==============================] - 21s 4ms/step - loss: 0.0915 - accuracy: 0.9667 - val_loss: 1.2674 - val_accuracy: 0.7562\n",
            "Epoch 188/200\n",
            "5368/5368 [==============================] - 21s 4ms/step - loss: 0.0945 - accuracy: 0.9696 - val_loss: 0.9277 - val_accuracy: 0.7837\n",
            "Epoch 189/200\n",
            "5368/5368 [==============================] - 21s 4ms/step - loss: 0.1007 - accuracy: 0.9622 - val_loss: 1.2048 - val_accuracy: 0.7475\n",
            "Epoch 190/200\n",
            "5368/5368 [==============================] - 21s 4ms/step - loss: 0.0949 - accuracy: 0.9657 - val_loss: 1.0308 - val_accuracy: 0.7700\n",
            "Epoch 191/200\n",
            "5368/5368 [==============================] - 21s 4ms/step - loss: 0.0914 - accuracy: 0.9676 - val_loss: 1.4605 - val_accuracy: 0.7269\n",
            "Epoch 192/200\n",
            "5368/5368 [==============================] - 21s 4ms/step - loss: 0.0980 - accuracy: 0.9648 - val_loss: 1.4874 - val_accuracy: 0.7344\n",
            "Epoch 193/200\n",
            "5368/5368 [==============================] - 21s 4ms/step - loss: 0.0734 - accuracy: 0.9726 - val_loss: 1.1774 - val_accuracy: 0.7911\n",
            "Epoch 194/200\n",
            "5368/5368 [==============================] - 21s 4ms/step - loss: 0.0915 - accuracy: 0.9676 - val_loss: 1.2437 - val_accuracy: 0.7650\n",
            "Epoch 195/200\n",
            "5368/5368 [==============================] - 21s 4ms/step - loss: 0.1021 - accuracy: 0.9652 - val_loss: 1.3789 - val_accuracy: 0.7544\n",
            "Epoch 196/200\n",
            "5368/5368 [==============================] - 21s 4ms/step - loss: 0.0855 - accuracy: 0.9687 - val_loss: 1.5828 - val_accuracy: 0.7095\n",
            "Epoch 197/200\n",
            "5368/5368 [==============================] - 21s 4ms/step - loss: 0.0931 - accuracy: 0.9689 - val_loss: 1.1348 - val_accuracy: 0.7911\n",
            "Epoch 198/200\n",
            "5368/5368 [==============================] - 21s 4ms/step - loss: 0.1018 - accuracy: 0.9670 - val_loss: 1.4686 - val_accuracy: 0.7319\n",
            "Epoch 199/200\n",
            "5368/5368 [==============================] - 21s 4ms/step - loss: 0.1092 - accuracy: 0.9618 - val_loss: 1.5544 - val_accuracy: 0.7400\n",
            "Epoch 200/200\n",
            "5368/5368 [==============================] - 21s 4ms/step - loss: 0.1074 - accuracy: 0.9603 - val_loss: 0.9933 - val_accuracy: 0.7968\n"
          ],
          "name": "stdout"
        },
        {
          "output_type": "execute_result",
          "data": {
            "text/plain": [
              "<keras.callbacks.callbacks.History at 0x7f493fbfa048>"
            ]
          },
          "metadata": {
            "tags": []
          },
          "execution_count": 39
        }
      ]
    },
    {
      "cell_type": "code",
      "metadata": {
        "id": "R06MuLU_nylC",
        "colab": {
          "base_uri": "https://localhost:8080/",
          "height": 573
        },
        "outputId": "9dc25df2-0ab8-4842-dab4-90dea46e78b3"
      },
      "source": [
        "# with all dropouts as original but with data aug with vartical flip\n",
        "\n",
        "history1 = model.history.history\n",
        "import matplotlib.pyplot as plt\n",
        "# summarize history for accuracy\n",
        "plt.plot(history1['accuracy'])\n",
        "plt.plot(history1['val_accuracy'])\n",
        "plt.title('model accuracy')\n",
        "plt.ylabel('accuracy')\n",
        "plt.xlabel('epoch')\n",
        "plt.legend(['train', 'test'], loc='upper left')\n",
        "plt.show()\n",
        "\n",
        "# summarize history for loss\n",
        "plt.plot(history1['loss'])\n",
        "plt.plot(history1['val_loss'])\n",
        "plt.title('model loss')\n",
        "plt.ylabel('loss')\n",
        "plt.xlabel('epoch')\n",
        "plt.legend(['train', 'test'], loc='upper left')\n",
        "plt.show()"
      ],
      "execution_count": null,
      "outputs": [
        {
          "output_type": "display_data",
          "data": {
            "image/png": "[encoded data removed]",
            "text/plain": [
              "<Figure size 432x288 with 1 Axes>"
            ]
          },
          "metadata": {
            "tags": [],
            "needs_background": "light"
          }
        },
        {
          "output_type": "display_data",
          "data": {
            "image/png": "[encoded data removed]",
            "text/plain": [
              "<Figure size 432x288 with 1 Axes>"
            ]
          },
          "metadata": {
            "tags": [],
            "needs_background": "light"
          }
        }
      ]
    },
    {
      "cell_type": "code",
      "metadata": {
        "id": "_bXnosqnK_pR",
        "colab": {
          "base_uri": "https://localhost:8080/",
          "height": 573
        },
        "outputId": "e8208a9d-5101-494d-d02e-c86a7cfeefe0"
      },
      "source": [
        "# with updated dropouts ie decreased dropouts\n",
        "\n",
        "history1 = model.history.history\n",
        "import matplotlib.pyplot as plt\n",
        "# summarize history for accuracy\n",
        "plt.plot(history1['accuracy'])\n",
        "plt.plot(history1['val_accuracy'])\n",
        "plt.title('model accuracy')\n",
        "plt.ylabel('accuracy')\n",
        "plt.xlabel('epoch')\n",
        "plt.legend(['train', 'test'], loc='upper left')\n",
        "plt.show()\n",
        "\n",
        "# summarize history for loss\n",
        "plt.plot(history1['loss'])\n",
        "plt.plot(history1['val_loss'])\n",
        "plt.title('model loss')\n",
        "plt.ylabel('loss')\n",
        "plt.xlabel('epoch')\n",
        "plt.legend(['train', 'test'], loc='upper left')\n",
        "plt.show()"
      ],
      "execution_count": null,
      "outputs": [
        {
          "output_type": "display_data",
          "data": {
            "image/png": "[encoded data removed]",
            "text/plain": [
              "<Figure size 432x288 with 1 Axes>"
            ]
          },
          "metadata": {
            "tags": [],
            "needs_background": "light"
          }
        },
        {
          "output_type": "display_data",
          "data": {
            "image/png": "[encoded data removed]",
            "text/plain": [
              "<Figure size 432x288 with 1 Axes>"
            ]
          },
          "metadata": {
            "tags": [],
            "needs_background": "light"
          }
        }
      ]
    },
    {
      "cell_type": "code",
      "metadata": {
        "id": "XfF-JbNan0aW",
        "colab": {
          "base_uri": "https://localhost:8080/",
          "height": 573
        },
        "outputId": "12788f4e-8b07-4ded-ef71-b5a34da83dc3"
      },
      "source": [
        "#with updated dropouts : removed some dropout layers and added last dropout layer again\n",
        "\n",
        "history1 = model.history.history\n",
        "import matplotlib.pyplot as plt\n",
        "# summarize history for accuracy\n",
        "plt.plot(history1['accuracy'])\n",
        "plt.plot(history1['val_accuracy'])\n",
        "plt.title('model accuracy')\n",
        "plt.ylabel('accuracy')\n",
        "plt.xlabel('epoch')\n",
        "plt.legend(['train', 'test'], loc='upper left')\n",
        "plt.show()\n",
        "\n",
        "# summarize history for loss\n",
        "plt.plot(history1['loss'])\n",
        "plt.plot(history1['val_loss'])\n",
        "plt.title('model loss')\n",
        "plt.ylabel('loss')\n",
        "plt.xlabel('epoch')\n",
        "plt.legend(['train', 'test'], loc='upper left')\n",
        "plt.show()"
      ],
      "execution_count": null,
      "outputs": [
        {
          "output_type": "display_data",
          "data": {
            "image/png": "[encoded data removed]",
            "text/plain": [
              "<Figure size 432x288 with 1 Axes>"
            ]
          },
          "metadata": {
            "tags": [],
            "needs_background": "light"
          }
        },
        {
          "output_type": "display_data",
          "data": {
            "image/png": "[encoded data removed]",
            "text/plain": [
              "<Figure size 432x288 with 1 Axes>"
            ]
          },
          "metadata": {
            "tags": [],
            "needs_background": "light"
          }
        }
      ]
    },
    {
      "cell_type": "code",
      "metadata": {
        "id": "Vd16J8soJiXg",
        "colab": {
          "base_uri": "https://localhost:8080/",
          "height": 573
        },
        "outputId": "8468211e-b83b-4fe4-f9c7-372504e880e2"
      },
      "source": [
        "#\n",
        "#with prev dropouts and removed last dropout layer also in data augmentation kept \n",
        "#only horizontal flip and removed vertical flip since it was confusing model\n",
        "\n",
        "history1 = model.history.history\n",
        "import matplotlib.pyplot as plt\n",
        "# summarize history for accuracy\n",
        "plt.plot(history1['accuracy'])\n",
        "plt.plot(history1['val_accuracy'])\n",
        "plt.title('model accuracy')\n",
        "plt.ylabel('accuracy')\n",
        "plt.xlabel('epoch')\n",
        "plt.legend(['train', 'test'], loc='upper left')\n",
        "plt.show()\n",
        "\n",
        "# summarize history for loss\n",
        "plt.plot(history1['loss'])\n",
        "plt.plot(history1['val_loss'])\n",
        "plt.title('model loss')\n",
        "plt.ylabel('loss')\n",
        "plt.xlabel('epoch')\n",
        "plt.legend(['train', 'test'], loc='upper left')\n",
        "plt.show()"
      ],
      "execution_count": null,
      "outputs": [
        {
          "output_type": "display_data",
          "data": {
            "image/png": "[encoded data removed]",
            "text/plain": [
              "<Figure size 432x288 with 1 Axes>"
            ]
          },
          "metadata": {
            "tags": [],
            "needs_background": "light"
          }
        },
        {
          "output_type": "display_data",
          "data": {
            "image/png": "[encoded data removed]",
            "text/plain": [
              "<Figure size 432x288 with 1 Axes>"
            ]
          },
          "metadata": {
            "tags": [],
            "needs_background": "light"
          }
        }
      ]
    },
    {
      "cell_type": "code",
      "metadata": {
        "id": "PXSgBtzSYl5f",
        "colab": {
          "base_uri": "https://localhost:8080/",
          "height": 69
        },
        "outputId": "aab0b42d-c4a7-4926-fc0f-172d2863d6f6"
      },
      "source": [
        "!pip install h5py"
      ],
      "execution_count": null,
      "outputs": [
        {
          "output_type": "stream",
          "text": [
            "Requirement already satisfied: h5py in /usr/local/lib/python3.6/dist-packages (2.10.0)\n",
            "Requirement already satisfied: six in /usr/local/lib/python3.6/dist-packages (from h5py) (1.12.0)\n",
            "Requirement already satisfied: numpy>=1.7 in /usr/local/lib/python3.6/dist-packages (from h5py) (1.18.4)\n"
          ],
          "name": "stdout"
        }
      ]
    },
    {
      "cell_type": "code",
      "metadata": {
        "id": "74q_Kcr6Ypf4"
      },
      "source": [
        "model.save(\"dress_classifier_final_weights.h5\")"
      ],
      "execution_count": null,
      "outputs": []
    },
    {
      "cell_type": "code",
      "metadata": {
        "id": "DP390qmSnPnG"
      },
      "source": [
        "!cp -r '/content/dress_classifier_weights.h5' '/content/drive/My Drive/test'"
      ],
      "execution_count": null,
      "outputs": []
    },
    {
      "cell_type": "code",
      "metadata": {
        "id": "MFWWtzgAcWUS"
      },
      "source": [
        "dic = { 0 : \"kurtis\" ,\t\t\t\t\t\t\t\t\t\t\n",
        "1 : \"saree\", \t\t\t\t\t\t\t\t\t\t\n",
        "2 : \"formal\", \t\t\t\t\t\t\t\t\t\t\n",
        "3 : \"Tshirt\" \n",
        "}\t\t\t\t\t\t\t\t\t\t\n"
      ],
      "execution_count": null,
      "outputs": []
    },
    {
      "cell_type": "code",
      "metadata": {
        "id": "nk_g5ElXcSGO"
      },
      "source": [
        "from keras.models import load_model"
      ],
      "execution_count": null,
      "outputs": []
    },
    {
      "cell_type": "code",
      "metadata": {
        "id": "pW7a8rkTYwnp"
      },
      "source": [
        "model = load_model(\"/content/dress_classifier_weights1.h5\")"
      ],
      "execution_count": null,
      "outputs": []
    },
    {
      "cell_type": "code",
      "metadata": {
        "id": "vPTHDl30ZKSW",
        "colab": {
          "base_uri": "https://localhost:8080/",
          "height": 266
        },
        "outputId": "704ceef2-2d59-4993-d58b-1339ef7b6c4e"
      },
      "source": [
        "image = x_test[np.random.randint(100)]\n",
        "prediction = model.predict(np.expand_dims(image, axis = 0))\n",
        "pred = np.argmax(prediction, axis = 1)\n",
        "\n",
        "plt.imshow(image)\n",
        "plt.axis('off')\n",
        "print(\"predicted label:\",dic[pred[0]])"
      ],
      "execution_count": null,
      "outputs": [
        {
          "output_type": "stream",
          "text": [
            "predicted label: kurtis\n"
          ],
          "name": "stdout"
        },
        {
          "output_type": "display_data",
          "data": {
            "image/png": "[encoded data removed]",
            "text/plain": [
              "<Figure size 432x288 with 1 Axes>"
            ]
          },
          "metadata": {
            "tags": [],
            "needs_background": "light"
          }
        }
      ]
    },
    {
      "cell_type": "code",
      "metadata": {
        "id": "zk74yMYGgBev"
      },
      "source": [
        "enc = OneHotEncoder(sparse=False)\n",
        "y_test = np.reshape(y_test, (-1,1))\n",
        "y_test = enc.fit_transform(y_test)"
      ],
      "execution_count": null,
      "outputs": []
    },
    {
      "cell_type": "code",
      "metadata": {
        "id": "-Xh9ENS32fpR",
        "colab": {
          "base_uri": "https://localhost:8080/",
          "height": 53
        },
        "outputId": "85f4a4f8-9a40-4b85-f4bc-27c1c0e45537"
      },
      "source": [
        "score = model.evaluate(x_test, y_test, batch_size=32)\n",
        "print(score)"
      ],
      "execution_count": null,
      "outputs": [
        {
          "output_type": "stream",
          "text": [
            "300/300 [==============================] - 1s 3ms/step\n",
            "[0.4820768791437149, 0.8766666650772095]\n"
          ],
          "name": "stdout"
        }
      ]
    },
    {
      "cell_type": "code",
      "metadata": {
        "id": "j_Tj0BSlfpfw",
        "colab": {
          "base_uri": "https://localhost:8080/",
          "height": 53
        },
        "outputId": "cd7854ef-be85-47ba-b502-b1927cde20b5"
      },
      "source": [
        "# Data aug but more drops\n",
        "score = model.evaluate(x_test, y_test, batch_size=32)\n",
        "print(score)"
      ],
      "execution_count": null,
      "outputs": [
        {
          "output_type": "stream",
          "text": [
            "300/300 [==============================] - 0s 1ms/step\n",
            "[0.7045069082578024, 0.7566666603088379]\n"
          ],
          "name": "stdout"
        }
      ]
    },
    {
      "cell_type": "code",
      "metadata": {
        "id": "7vSwmciF5GKx",
        "colab": {
          "base_uri": "https://localhost:8080/",
          "height": 53
        },
        "outputId": "c3632a6d-19f4-45e9-f5a7-ff8506dec168"
      },
      "source": [
        "# data aug but less drops\n",
        "\n",
        "score = model.evaluate(x_test, y_test, batch_size=32)\n",
        "print(score)"
      ],
      "execution_count": null,
      "outputs": [
        {
          "output_type": "stream",
          "text": [
            "300/300 [==============================] - 0s 1ms/step\n",
            "[0.6029397257169088, 0.7866666913032532]\n"
          ],
          "name": "stdout"
        }
      ]
    },
    {
      "cell_type": "code",
      "metadata": {
        "id": "j2jG_hALLJ9t",
        "colab": {
          "base_uri": "https://localhost:8080/",
          "height": 53
        },
        "outputId": "60838942-830e-4985-8708-07c25864918c"
      },
      "source": [
        "# data aug with one increased drop\n",
        "score = model.evaluate(x_test, y_test, batch_size=32)\n",
        "print(score)"
      ],
      "execution_count": null,
      "outputs": [
        {
          "output_type": "stream",
          "text": [
            "300/300 [==============================] - 0s 1ms/step\n",
            "[0.6168034434318542, 0.8100000023841858]\n"
          ],
          "name": "stdout"
        }
      ]
    },
    {
      "cell_type": "code",
      "metadata": {
        "id": "_OVfvIpeoJNo",
        "colab": {
          "base_uri": "https://localhost:8080/",
          "height": 53
        },
        "outputId": "e0eca969-93b1-4c8d-b867-41e9c81413b0"
      },
      "source": [
        "# data aug with one increased drop\n",
        "score = model.evaluate(x_test, y_test, batch_size=32)\n",
        "print(score)"
      ],
      "execution_count": null,
      "outputs": [
        {
          "output_type": "stream",
          "text": [
            "300/300 [==============================] - 0s 2ms/step\n",
            "[0.7590449682871501, 0.8233333230018616]\n"
          ],
          "name": "stdout"
        }
      ]
    },
    {
      "cell_type": "code",
      "metadata": {
        "id": "WkfSx-YCJzBC",
        "colab": {
          "base_uri": "https://localhost:8080/",
          "height": 53
        },
        "outputId": "eb6fcff3-cf66-4aae-a3e1-3c9a33863afd"
      },
      "source": [
        "# final\n",
        "score = model.evaluate(x_test, y_test, batch_size=32)\n",
        "print(score)"
      ],
      "execution_count": null,
      "outputs": [
        {
          "output_type": "stream",
          "text": [
            "300/300 [==============================] - 0s 2ms/step\n",
            "[0.5631141383200884, 0.9133333563804626]\n"
          ],
          "name": "stdout"
        }
      ]
    },
    {
      "cell_type": "code",
      "metadata": {
        "id": "Nvc8RpF6qhZc"
      },
      "source": [
        "y_test_1 = np.argmax(y_test, axis = 1)"
      ],
      "execution_count": null,
      "outputs": []
    },
    {
      "cell_type": "code",
      "metadata": {
        "id": "2Gc6xGK-pK37"
      },
      "source": [
        "pred = model.predict(x_test)\n",
        "rounded_labels=np.argmax(pred, axis=1)\n"
      ],
      "execution_count": null,
      "outputs": []
    },
    {
      "cell_type": "code",
      "metadata": {
        "id": "-nNSxYARJ5k-",
        "colab": {
          "base_uri": "https://localhost:8080/",
          "height": 341
        },
        "outputId": "2f147489-d3d6-494c-acec-1be8ad78b01b"
      },
      "source": [
        "result = confusion_matrix(y_test_1, rounded_labels)\n",
        "print(\"Confusion Matrix:\")\n",
        "print(result)\n",
        "result1 = classification_report(y_test_1, rounded_labels)\n",
        "print(\"Classification Report:\",)\n",
        "print (result1)\n",
        "result2 = accuracy_score(y_test_1,rounded_labels)\n",
        "print(\"Accuracy:\",result2*100)"
      ],
      "execution_count": null,
      "outputs": [
        {
          "output_type": "stream",
          "text": [
            "Confusion Matrix:\n",
            "[[108   5   7   0]\n",
            " [  0  50   0   3]\n",
            " [  1   1  73   7]\n",
            " [  2   0   0  43]]\n",
            "Classification Report:\n",
            "              precision    recall  f1-score   support\n",
            "\n",
            "           0       0.97      0.90      0.94       120\n",
            "           1       0.89      0.94      0.92        53\n",
            "           2       0.91      0.89      0.90        82\n",
            "           3       0.81      0.96      0.88        45\n",
            "\n",
            "    accuracy                           0.91       300\n",
            "   macro avg       0.90      0.92      0.91       300\n",
            "weighted avg       0.92      0.91      0.91       300\n",
            "\n",
            "Accuracy: 91.33333333333333\n"
          ],
          "name": "stdout"
        }
      ]
    },
    {
      "cell_type": "code",
      "metadata": {
        "id": "IL1EOYzXKQWt"
      },
      "source": [
        ""
      ],
      "execution_count": null,
      "outputs": []
    }
  ]
}